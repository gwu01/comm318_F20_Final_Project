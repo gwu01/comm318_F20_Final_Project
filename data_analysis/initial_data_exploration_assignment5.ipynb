{
 "cells": [
  {
   "cell_type": "markdown",
   "metadata": {},
   "source": [
    "# Initial Data Exploration \n",
    "\n",
    "* This notebook starts to explore the initial data files uploaded to the data folder. I explore preliminary trends in the Philly crime dataset, which outlines all the reports made by the Philadelphia Police Department in a given year. I recode the variables to make it more understandable from a data analysis standpoint (which will be consistent in the later notebooks!). Finally, I examine trends such as most frequent crimes, and what time of day they tend to occur to draw patterns for future analyses. \n",
    "\n",
    "----\n",
    "#### HISTORY\n",
    "* 10/19/20 - set up notebook"
   ]
  },
  {
   "cell_type": "code",
   "execution_count": 1,
   "metadata": {},
   "outputs": [],
   "source": [
    "import pandas as pd"
   ]
  },
  {
   "cell_type": "code",
   "execution_count": 2,
   "metadata": {},
   "outputs": [],
   "source": [
    "phillycrime_df = pd.read_csv('../data/philly_crime.csv')"
   ]
  },
  {
   "cell_type": "markdown",
   "metadata": {},
   "source": [
    "#### Subtitles\n",
    "\n",
    "* To organize your notebook you could add in intermittent subtitles and markdown cells to describe the different steps of your analysis "
   ]
  },
  {
   "cell_type": "code",
   "execution_count": 3,
   "metadata": {
    "scrolled": true
   },
   "outputs": [
    {
     "data": {
      "text/plain": [
       "(110271, 15)"
      ]
     },
     "execution_count": 3,
     "metadata": {},
     "output_type": "execute_result"
    }
   ],
   "source": [
    "phillycrime_df.shape"
   ]
  },
  {
   "cell_type": "markdown",
   "metadata": {},
   "source": [
    "* Number of rows: 110271\n",
    "* Number of columns: 15"
   ]
  },
  {
   "cell_type": "code",
   "execution_count": 4,
   "metadata": {},
   "outputs": [
    {
     "data": {
      "text/plain": [
       "Index(['objectid', 'dc_dist', 'psa', 'dispatch_date_time', 'dispatch_date',\n",
       "       'dispatch_time', 'hour_', 'dc_key', 'location_block', 'ucr_general',\n",
       "       'text_general_code', 'point_x', 'point_y', 'lat', 'lng'],\n",
       "      dtype='object')"
      ]
     },
     "execution_count": 4,
     "metadata": {},
     "output_type": "execute_result"
    }
   ],
   "source": [
    "phillycrime_df.columns"
   ]
  },
  {
   "cell_type": "code",
   "execution_count": 5,
   "metadata": {},
   "outputs": [
    {
     "data": {
      "text/html": [
       "<div>\n",
       "<style scoped>\n",
       "    .dataframe tbody tr th:only-of-type {\n",
       "        vertical-align: middle;\n",
       "    }\n",
       "\n",
       "    .dataframe tbody tr th {\n",
       "        vertical-align: top;\n",
       "    }\n",
       "\n",
       "    .dataframe thead th {\n",
       "        text-align: right;\n",
       "    }\n",
       "</style>\n",
       "<table border=\"1\" class=\"dataframe\">\n",
       "  <thead>\n",
       "    <tr style=\"text-align: right;\">\n",
       "      <th></th>\n",
       "      <th>objectid</th>\n",
       "      <th>dc_dist</th>\n",
       "      <th>psa</th>\n",
       "      <th>dispatch_date_time</th>\n",
       "      <th>dispatch_date</th>\n",
       "      <th>dispatch_time</th>\n",
       "      <th>hour_</th>\n",
       "      <th>dc_key</th>\n",
       "      <th>location_block</th>\n",
       "      <th>ucr_general</th>\n",
       "      <th>text_general_code</th>\n",
       "      <th>point_x</th>\n",
       "      <th>point_y</th>\n",
       "      <th>lat</th>\n",
       "      <th>lng</th>\n",
       "    </tr>\n",
       "  </thead>\n",
       "  <tbody>\n",
       "    <tr>\n",
       "      <th>0</th>\n",
       "      <td>129</td>\n",
       "      <td>9</td>\n",
       "      <td>2</td>\n",
       "      <td>2020-03-25 18:32:00</td>\n",
       "      <td>2020-03-25</td>\n",
       "      <td>18:32:00</td>\n",
       "      <td>18</td>\n",
       "      <td>202009012094</td>\n",
       "      <td>1400 BLOCK SPRING GARDEN ST</td>\n",
       "      <td>600</td>\n",
       "      <td>Theft from Vehicle</td>\n",
       "      <td>-75.161446</td>\n",
       "      <td>39.962334</td>\n",
       "      <td>39.962334</td>\n",
       "      <td>-75.161446</td>\n",
       "    </tr>\n",
       "    <tr>\n",
       "      <th>1</th>\n",
       "      <td>41</td>\n",
       "      <td>77</td>\n",
       "      <td>A</td>\n",
       "      <td>2020-03-08 19:08:00</td>\n",
       "      <td>2020-03-08</td>\n",
       "      <td>19:08:00</td>\n",
       "      <td>19</td>\n",
       "      <td>202077001196</td>\n",
       "      <td>0 BLOCK PIA WAY</td>\n",
       "      <td>600</td>\n",
       "      <td>Thefts</td>\n",
       "      <td>-75.230706</td>\n",
       "      <td>39.883881</td>\n",
       "      <td>39.883881</td>\n",
       "      <td>-75.230706</td>\n",
       "    </tr>\n",
       "    <tr>\n",
       "      <th>2</th>\n",
       "      <td>42</td>\n",
       "      <td>77</td>\n",
       "      <td>A</td>\n",
       "      <td>2020-03-15 18:41:00</td>\n",
       "      <td>2020-03-15</td>\n",
       "      <td>18:41:00</td>\n",
       "      <td>18</td>\n",
       "      <td>202077001312</td>\n",
       "      <td>0 BLOCK PIA WAY</td>\n",
       "      <td>600</td>\n",
       "      <td>Thefts</td>\n",
       "      <td>-75.230706</td>\n",
       "      <td>39.883881</td>\n",
       "      <td>39.883881</td>\n",
       "      <td>-75.230706</td>\n",
       "    </tr>\n",
       "    <tr>\n",
       "      <th>3</th>\n",
       "      <td>43</td>\n",
       "      <td>77</td>\n",
       "      <td>A</td>\n",
       "      <td>2020-03-18 08:17:00</td>\n",
       "      <td>2020-03-18</td>\n",
       "      <td>08:17:00</td>\n",
       "      <td>8</td>\n",
       "      <td>202077001343</td>\n",
       "      <td>0 BLOCK PIA WAY</td>\n",
       "      <td>600</td>\n",
       "      <td>Thefts</td>\n",
       "      <td>-75.230706</td>\n",
       "      <td>39.883881</td>\n",
       "      <td>39.883881</td>\n",
       "      <td>-75.230706</td>\n",
       "    </tr>\n",
       "    <tr>\n",
       "      <th>4</th>\n",
       "      <td>44</td>\n",
       "      <td>77</td>\n",
       "      <td>A</td>\n",
       "      <td>2020-04-03 15:32:33</td>\n",
       "      <td>2020-04-03</td>\n",
       "      <td>15:32:33</td>\n",
       "      <td>15</td>\n",
       "      <td>202077001460</td>\n",
       "      <td>0 BLOCK PIA WAY</td>\n",
       "      <td>600</td>\n",
       "      <td>Thefts</td>\n",
       "      <td>-75.230706</td>\n",
       "      <td>39.883881</td>\n",
       "      <td>39.883881</td>\n",
       "      <td>-75.230706</td>\n",
       "    </tr>\n",
       "  </tbody>\n",
       "</table>\n",
       "</div>"
      ],
      "text/plain": [
       "   objectid  dc_dist psa   dispatch_date_time dispatch_date dispatch_time  \\\n",
       "0       129        9   2  2020-03-25 18:32:00    2020-03-25      18:32:00   \n",
       "1        41       77   A  2020-03-08 19:08:00    2020-03-08      19:08:00   \n",
       "2        42       77   A  2020-03-15 18:41:00    2020-03-15      18:41:00   \n",
       "3        43       77   A  2020-03-18 08:17:00    2020-03-18      08:17:00   \n",
       "4        44       77   A  2020-04-03 15:32:33    2020-04-03      15:32:33   \n",
       "\n",
       "   hour_        dc_key               location_block  ucr_general  \\\n",
       "0     18  202009012094  1400 BLOCK SPRING GARDEN ST          600   \n",
       "1     19  202077001196              0 BLOCK PIA WAY          600   \n",
       "2     18  202077001312              0 BLOCK PIA WAY          600   \n",
       "3      8  202077001343              0 BLOCK PIA WAY          600   \n",
       "4     15  202077001460              0 BLOCK PIA WAY          600   \n",
       "\n",
       "    text_general_code    point_x    point_y        lat        lng  \n",
       "0  Theft from Vehicle -75.161446  39.962334  39.962334 -75.161446  \n",
       "1              Thefts -75.230706  39.883881  39.883881 -75.230706  \n",
       "2              Thefts -75.230706  39.883881  39.883881 -75.230706  \n",
       "3              Thefts -75.230706  39.883881  39.883881 -75.230706  \n",
       "4              Thefts -75.230706  39.883881  39.883881 -75.230706  "
      ]
     },
     "execution_count": 5,
     "metadata": {},
     "output_type": "execute_result"
    }
   ],
   "source": [
    "phillycrime_df.head()"
   ]
  },
  {
   "cell_type": "code",
   "execution_count": 6,
   "metadata": {},
   "outputs": [
    {
     "data": {
      "text/html": [
       "<div>\n",
       "<style scoped>\n",
       "    .dataframe tbody tr th:only-of-type {\n",
       "        vertical-align: middle;\n",
       "    }\n",
       "\n",
       "    .dataframe tbody tr th {\n",
       "        vertical-align: top;\n",
       "    }\n",
       "\n",
       "    .dataframe thead th {\n",
       "        text-align: right;\n",
       "    }\n",
       "</style>\n",
       "<table border=\"1\" class=\"dataframe\">\n",
       "  <thead>\n",
       "    <tr style=\"text-align: right;\">\n",
       "      <th></th>\n",
       "      <th>objectid</th>\n",
       "      <th>dc_dist</th>\n",
       "      <th>psa</th>\n",
       "      <th>dispatch_date_time</th>\n",
       "      <th>dispatch_date</th>\n",
       "      <th>dispatch_time</th>\n",
       "      <th>hour_</th>\n",
       "      <th>dc_key</th>\n",
       "      <th>location_block</th>\n",
       "      <th>ucr_general</th>\n",
       "      <th>text_general_code</th>\n",
       "      <th>point_x</th>\n",
       "      <th>point_y</th>\n",
       "      <th>lat</th>\n",
       "      <th>lng</th>\n",
       "    </tr>\n",
       "  </thead>\n",
       "  <tbody>\n",
       "    <tr>\n",
       "      <th>110266</th>\n",
       "      <td>5253186</td>\n",
       "      <td>16</td>\n",
       "      <td>2</td>\n",
       "      <td>2020-09-23 11:13:39</td>\n",
       "      <td>2020-09-23</td>\n",
       "      <td>11:13:39</td>\n",
       "      <td>11</td>\n",
       "      <td>202016036076</td>\n",
       "      <td>800 BLOCK N 46TH ST</td>\n",
       "      <td>800</td>\n",
       "      <td>Other Assaults</td>\n",
       "      <td>-75.213683</td>\n",
       "      <td>39.968523</td>\n",
       "      <td>39.968523</td>\n",
       "      <td>-75.213683</td>\n",
       "    </tr>\n",
       "    <tr>\n",
       "      <th>110267</th>\n",
       "      <td>3821930</td>\n",
       "      <td>19</td>\n",
       "      <td>1</td>\n",
       "      <td>2020-07-11 00:33:16</td>\n",
       "      <td>2020-07-11</td>\n",
       "      <td>00:33:16</td>\n",
       "      <td>0</td>\n",
       "      <td>202019044845</td>\n",
       "      <td>7200 BLOCK HAVERFORD AV</td>\n",
       "      <td>600</td>\n",
       "      <td>Theft from Vehicle</td>\n",
       "      <td>-75.261351</td>\n",
       "      <td>39.974957</td>\n",
       "      <td>39.974957</td>\n",
       "      <td>-75.261351</td>\n",
       "    </tr>\n",
       "    <tr>\n",
       "      <th>110268</th>\n",
       "      <td>4372141</td>\n",
       "      <td>17</td>\n",
       "      <td>3</td>\n",
       "      <td>2020-08-06 13:08:00</td>\n",
       "      <td>2020-08-06</td>\n",
       "      <td>13:08:00</td>\n",
       "      <td>13</td>\n",
       "      <td>202017022625</td>\n",
       "      <td>1900 BLOCK WATKINS ST</td>\n",
       "      <td>1400</td>\n",
       "      <td>Vandalism/Criminal Mischief</td>\n",
       "      <td>-75.177072</td>\n",
       "      <td>39.929892</td>\n",
       "      <td>39.929892</td>\n",
       "      <td>-75.177072</td>\n",
       "    </tr>\n",
       "    <tr>\n",
       "      <th>110269</th>\n",
       "      <td>4092171</td>\n",
       "      <td>18</td>\n",
       "      <td>1</td>\n",
       "      <td>2020-07-22 14:47:06</td>\n",
       "      <td>2020-07-22</td>\n",
       "      <td>14:47:06</td>\n",
       "      <td>14</td>\n",
       "      <td>202018052559</td>\n",
       "      <td>5800 BLOCK NORFOLK ST</td>\n",
       "      <td>800</td>\n",
       "      <td>Other Assaults</td>\n",
       "      <td>-75.240107</td>\n",
       "      <td>39.949705</td>\n",
       "      <td>39.949705</td>\n",
       "      <td>-75.240107</td>\n",
       "    </tr>\n",
       "    <tr>\n",
       "      <th>110270</th>\n",
       "      <td>3400619</td>\n",
       "      <td>9</td>\n",
       "      <td>2</td>\n",
       "      <td>2020-06-15 10:41:09</td>\n",
       "      <td>2020-06-15</td>\n",
       "      <td>10:41:09</td>\n",
       "      <td>10</td>\n",
       "      <td>202009020906</td>\n",
       "      <td>200 BLOCK N BROAD ST</td>\n",
       "      <td>600</td>\n",
       "      <td>Theft from Vehicle</td>\n",
       "      <td>-75.162803</td>\n",
       "      <td>39.956657</td>\n",
       "      <td>39.956657</td>\n",
       "      <td>-75.162803</td>\n",
       "    </tr>\n",
       "  </tbody>\n",
       "</table>\n",
       "</div>"
      ],
      "text/plain": [
       "        objectid  dc_dist psa   dispatch_date_time dispatch_date  \\\n",
       "110266   5253186       16   2  2020-09-23 11:13:39    2020-09-23   \n",
       "110267   3821930       19   1  2020-07-11 00:33:16    2020-07-11   \n",
       "110268   4372141       17   3  2020-08-06 13:08:00    2020-08-06   \n",
       "110269   4092171       18   1  2020-07-22 14:47:06    2020-07-22   \n",
       "110270   3400619        9   2  2020-06-15 10:41:09    2020-06-15   \n",
       "\n",
       "       dispatch_time  hour_        dc_key           location_block  \\\n",
       "110266      11:13:39     11  202016036076      800 BLOCK N 46TH ST   \n",
       "110267      00:33:16      0  202019044845  7200 BLOCK HAVERFORD AV   \n",
       "110268      13:08:00     13  202017022625    1900 BLOCK WATKINS ST   \n",
       "110269      14:47:06     14  202018052559    5800 BLOCK NORFOLK ST   \n",
       "110270      10:41:09     10  202009020906     200 BLOCK N BROAD ST   \n",
       "\n",
       "        ucr_general            text_general_code    point_x    point_y  \\\n",
       "110266          800               Other Assaults -75.213683  39.968523   \n",
       "110267          600           Theft from Vehicle -75.261351  39.974957   \n",
       "110268         1400  Vandalism/Criminal Mischief -75.177072  39.929892   \n",
       "110269          800               Other Assaults -75.240107  39.949705   \n",
       "110270          600           Theft from Vehicle -75.162803  39.956657   \n",
       "\n",
       "              lat        lng  \n",
       "110266  39.968523 -75.213683  \n",
       "110267  39.974957 -75.261351  \n",
       "110268  39.929892 -75.177072  \n",
       "110269  39.949705 -75.240107  \n",
       "110270  39.956657 -75.162803  "
      ]
     },
     "execution_count": 6,
     "metadata": {},
     "output_type": "execute_result"
    }
   ],
   "source": [
    "phillycrime_df.tail()"
   ]
  },
  {
   "cell_type": "markdown",
   "metadata": {},
   "source": [
    "### Observations\n",
    "\n",
    "* each row is a reported crime incident\n",
    "* columns:\n",
    "    * `objectid` - unique identification number for each case / crime (QUANTITATIVE)\n",
    "    * `dc_dist` - distance from the Philadelphia Police? Need to confirm! (QUANTITATIVE)\n",
    "    * `dispatch_date_time` - date and time in which the crime was reported (QUANTITATIVE)\n",
    "    * `dispatch_date` - date in which the crime was reported (QUANTITATIVE)\n",
    "    * `dispatch_time` - time in which the crime was reported (24 hour cycle) (QUANTITATIVE)\n",
    "    * `hour_` - rounded hour for crime occurrence (note that hours round \"down\") (QUANTITATIVE)\n",
    "    * `dc_key` - unique identification code (not sure for what though) (QUANTITATIVE)\n",
    "    * `location_block` - general location area within Philadelphia region that the crime occurred at (QUALITATIVE)\n",
    "    * `ucr_general` - broad UCR code, standard for crime reporting from FBI (QUANTITATIVE)\n",
    "    * `text_general_code` - type of crime in coded format, standard for crime reporting from FBI (QUALITATIVE)\n",
    "    * `point_x` - longitude coordinate (QUANTITATIVE)\n",
    "    * `point_y` - latitude coordinate (QUANTITATIVE)\n",
    "    * `lat` - equivalent of point_y column (QUANTITATIVE)\n",
    "    * `lng` - equivalent of point_x column (QUANTITATIVE)"
   ]
  },
  {
   "cell_type": "code",
   "execution_count": 7,
   "metadata": {},
   "outputs": [
    {
     "name": "stdout",
     "output_type": "stream",
     "text": [
      "             id  distance             datetime        date      time  hour  \\\n",
      "0           129         9  2020-03-25 18:32:00  2020-03-25  18:32:00    18   \n",
      "1            41        77  2020-03-08 19:08:00  2020-03-08  19:08:00    19   \n",
      "2            42        77  2020-03-15 18:41:00  2020-03-15  18:41:00    18   \n",
      "3            43        77  2020-03-18 08:17:00  2020-03-18  08:17:00     8   \n",
      "4            44        77  2020-04-03 15:32:33  2020-04-03  15:32:33    15   \n",
      "...         ...       ...                  ...         ...       ...   ...   \n",
      "110266  5253186        16  2020-09-23 11:13:39  2020-09-23  11:13:39    11   \n",
      "110267  3821930        19  2020-07-11 00:33:16  2020-07-11  00:33:16     0   \n",
      "110268  4372141        17  2020-08-06 13:08:00  2020-08-06  13:08:00    13   \n",
      "110269  4092171        18  2020-07-22 14:47:06  2020-07-22  14:47:06    14   \n",
      "110270  3400619         9  2020-06-15 10:41:09  2020-06-15  10:41:09    10   \n",
      "\n",
      "                 key                     location   ucr  \\\n",
      "0       202009012094  1400 BLOCK SPRING GARDEN ST   600   \n",
      "1       202077001196              0 BLOCK PIA WAY   600   \n",
      "2       202077001312              0 BLOCK PIA WAY   600   \n",
      "3       202077001343              0 BLOCK PIA WAY   600   \n",
      "4       202077001460              0 BLOCK PIA WAY   600   \n",
      "...              ...                          ...   ...   \n",
      "110266  202016036076          800 BLOCK N 46TH ST   800   \n",
      "110267  202019044845      7200 BLOCK HAVERFORD AV   600   \n",
      "110268  202017022625        1900 BLOCK WATKINS ST  1400   \n",
      "110269  202018052559        5800 BLOCK NORFOLK ST   800   \n",
      "110270  202009020906         200 BLOCK N BROAD ST   600   \n",
      "\n",
      "                          crimetype          x          y  latitutde  \\\n",
      "0                Theft from Vehicle -75.161446  39.962334  39.962334   \n",
      "1                            Thefts -75.230706  39.883881  39.883881   \n",
      "2                            Thefts -75.230706  39.883881  39.883881   \n",
      "3                            Thefts -75.230706  39.883881  39.883881   \n",
      "4                            Thefts -75.230706  39.883881  39.883881   \n",
      "...                             ...        ...        ...        ...   \n",
      "110266               Other Assaults -75.213683  39.968523  39.968523   \n",
      "110267           Theft from Vehicle -75.261351  39.974957  39.974957   \n",
      "110268  Vandalism/Criminal Mischief -75.177072  39.929892  39.929892   \n",
      "110269               Other Assaults -75.240107  39.949705  39.949705   \n",
      "110270           Theft from Vehicle -75.162803  39.956657  39.956657   \n",
      "\n",
      "        longitude  \n",
      "0      -75.161446  \n",
      "1      -75.230706  \n",
      "2      -75.230706  \n",
      "3      -75.230706  \n",
      "4      -75.230706  \n",
      "...           ...  \n",
      "110266 -75.213683  \n",
      "110267 -75.261351  \n",
      "110268 -75.177072  \n",
      "110269 -75.240107  \n",
      "110270 -75.162803  \n",
      "\n",
      "[110271 rows x 14 columns]\n"
     ]
    }
   ],
   "source": [
    "cols_to_use = ['objectid', 'dc_dist', 'dispatch_date_time', 'dispatch_date', 'dispatch_time', 'hour_', 'dc_key', 'location_block', 'ucr_general', 'text_general_code', 'point_x', 'point_y', 'lat','lng']\n",
    "phillycrime_df2 = phillycrime_df[cols_to_use]\n",
    "phillycrime_df2 = phillycrime_df2.rename(columns={\n",
    "    'objectid':'id',\n",
    "    'dc_dist':'distance',\n",
    "    'dispatch_date_time':'datetime',\n",
    "    'dispatch_date':'date',\n",
    "    'dispatch_time':'time',\n",
    "    'hour_':'hour',\n",
    "    'dc_key':'key',\n",
    "    'location_block':'location',\n",
    "    'ucr_general':'ucr',\n",
    "    'text_general_code':'crimetype',\n",
    "    'point_x':'x',\n",
    "    'point_y':'y',\n",
    "    'lat':'latitutde',\n",
    "    'lng':'longitude'})\n",
    "print(phillycrime_df2)"
   ]
  },
  {
   "cell_type": "code",
   "execution_count": 8,
   "metadata": {},
   "outputs": [
    {
     "data": {
      "text/plain": [
       "array(['Theft from Vehicle', 'Thefts', 'Robbery No Firearm',\n",
       "       'Burglary Non-Residential', 'Robbery Firearm',\n",
       "       'Aggravated Assault No Firearm', 'Aggravated Assault Firearm',\n",
       "       'Rape', 'Vandalism/Criminal Mischief', 'All Other Offenses',\n",
       "       'Other Assaults', 'Burglary Residential',\n",
       "       'DRIVING UNDER THE INFLUENCE', 'Narcotic / Drug Law Violations',\n",
       "       'Fraud', 'Arson', 'Prostitution and Commercialized Vice',\n",
       "       'Disorderly Conduct', 'Public Drunkenness',\n",
       "       'Other Sex Offenses (Not Commercialized)', 'Weapon Violations',\n",
       "       'Offenses Against Family and Children', 'Embezzlement',\n",
       "       'Forgery and Counterfeiting', 'Liquor Law Violations',\n",
       "       'Receiving Stolen Property', 'Gambling Violations',\n",
       "       'Vagrancy/Loitering', 'Homicide - Criminal',\n",
       "       'Homicide - Criminal ', 'Recovered Stolen Motor Vehicle',\n",
       "       'Motor Vehicle Theft', 'Homicide - Justifiable ',\n",
       "       'Homicide - Gross Negligence'], dtype=object)"
      ]
     },
     "execution_count": 8,
     "metadata": {},
     "output_type": "execute_result"
    }
   ],
   "source": [
    "phillycrime_df2['crimetype'].unique()"
   ]
  },
  {
   "cell_type": "code",
   "execution_count": 9,
   "metadata": {
    "scrolled": false
   },
   "outputs": [
    {
     "data": {
      "text/plain": [
       "Other Assaults                             17698\n",
       "Thefts                                     16440\n",
       "All Other Offenses                         13806\n",
       "Vandalism/Criminal Mischief                11557\n",
       "Theft from Vehicle                         10118\n",
       "Fraud                                       6928\n",
       "Narcotic / Drug Law Violations              5524\n",
       "Aggravated Assault No Firearm               4245\n",
       "Motor Vehicle Theft                         3737\n",
       "Aggravated Assault Firearm                  2929\n",
       "Burglary Residential                        2788\n",
       "Weapon Violations                           2602\n",
       "Burglary Non-Residential                    2336\n",
       "Robbery No Firearm                          2216\n",
       "DRIVING UNDER THE INFLUENCE                 1359\n",
       "Robbery Firearm                             1281\n",
       "Recovered Stolen Motor Vehicle              1150\n",
       "Disorderly Conduct                           679\n",
       "Rape                                         622\n",
       "Other Sex Offenses (Not Commercialized)      554\n",
       "Arson                                        425\n",
       "Offenses Against Family and Children         335\n",
       "Homicide - Criminal                          298\n",
       "Prostitution and Commercialized Vice         183\n",
       "Embezzlement                                 180\n",
       "Forgery and Counterfeiting                    94\n",
       "Liquor Law Violations                         67\n",
       "Homicide - Criminal                           45\n",
       "Public Drunkenness                            42\n",
       "Receiving Stolen Property                     12\n",
       "Gambling Violations                           10\n",
       "Vagrancy/Loitering                             8\n",
       "Homicide - Justifiable                         2\n",
       "Homicide - Gross Negligence                    1\n",
       "Name: crimetype, dtype: int64"
      ]
     },
     "execution_count": 9,
     "metadata": {},
     "output_type": "execute_result"
    }
   ],
   "source": [
    "phillycrime_df2['crimetype'].value_counts()"
   ]
  },
  {
   "cell_type": "code",
   "execution_count": 10,
   "metadata": {},
   "outputs": [
    {
     "data": {
      "text/plain": [
       "crimetype\n",
       "Aggravated Assault Firearm                 13.357460\n",
       "Aggravated Assault No Firearm              13.128857\n",
       "All Other Offenses                         13.163842\n",
       "Arson                                      10.268235\n",
       "Burglary Non-Residential                   10.619435\n",
       "Burglary Residential                       12.866930\n",
       "DRIVING UNDER THE INFLUENCE                12.415011\n",
       "Disorderly Conduct                         14.600884\n",
       "Embezzlement                               13.372222\n",
       "Forgery and Counterfeiting                 15.053191\n",
       "Fraud                                      13.966946\n",
       "Gambling Violations                        14.400000\n",
       "Homicide - Criminal                        14.241611\n",
       "Homicide - Criminal                        13.622222\n",
       "Homicide - Gross Negligence                 0.000000\n",
       "Homicide - Justifiable                     10.500000\n",
       "Liquor Law Violations                      13.597015\n",
       "Motor Vehicle Theft                        13.026224\n",
       "Narcotic / Drug Law Violations             15.457639\n",
       "Offenses Against Family and Children       14.155224\n",
       "Other Assaults                             13.644084\n",
       "Other Sex Offenses (Not Commercialized)    14.097473\n",
       "Prostitution and Commercialized Vice       14.896175\n",
       "Public Drunkenness                         14.523810\n",
       "Rape                                       13.300643\n",
       "Receiving Stolen Property                  13.500000\n",
       "Recovered Stolen Motor Vehicle             13.028696\n",
       "Robbery Firearm                            12.960968\n",
       "Robbery No Firearm                         13.360108\n",
       "Theft from Vehicle                         12.608618\n",
       "Thefts                                     13.838443\n",
       "Vagrancy/Loitering                         12.625000\n",
       "Vandalism/Criminal Mischief                12.466644\n",
       "Weapon Violations                          14.381630\n",
       "Name: hour, dtype: float64"
      ]
     },
     "execution_count": 10,
     "metadata": {},
     "output_type": "execute_result"
    }
   ],
   "source": [
    "phillycrime_df2.groupby('crimetype')['hour'].mean()"
   ]
  },
  {
   "cell_type": "markdown",
   "metadata": {},
   "source": [
    "* Missing data for:\n",
    "    * Homicide - Gross Negligence\n",
    "* High (crime that occurs latest in the day):\n",
    "    * Narcotic / Drug Law Violations (15.457639)\n",
    "* Low (crime that occurs earliest in the day): \n",
    "    * Arson (10.268235)\n",
    "* Notes\n",
    "    * would be helpful to know what \"all other offenses\" entailed. "
   ]
  },
  {
   "cell_type": "code",
   "execution_count": 11,
   "metadata": {},
   "outputs": [
    {
     "data": {
      "text/plain": [
       "(5524, 14)"
      ]
     },
     "execution_count": 11,
     "metadata": {},
     "output_type": "execute_result"
    }
   ],
   "source": [
    "drug_filter = phillycrime_df2['crimetype']=='Narcotic / Drug Law Violations'\n",
    "drug_df = phillycrime_df2[drug_filter]\n",
    "drug_df.shape"
   ]
  },
  {
   "cell_type": "markdown",
   "metadata": {},
   "source": [
    "* Distribution of drug (Narcotic / Drug Law Violations) incidents by Philadelphia Police."
   ]
  },
  {
   "cell_type": "code",
   "execution_count": 12,
   "metadata": {},
   "outputs": [
    {
     "data": {
      "text/plain": [
       "distance\n",
       "1       53\n",
       "2      248\n",
       "3       52\n",
       "5        2\n",
       "6      125\n",
       "7        9\n",
       "8       92\n",
       "9      216\n",
       "12     464\n",
       "14     284\n",
       "15     210\n",
       "16     225\n",
       "17     132\n",
       "18     308\n",
       "19     217\n",
       "22     290\n",
       "24    1223\n",
       "25     521\n",
       "26      72\n",
       "35     518\n",
       "39     247\n",
       "77      16\n",
       "dtype: int64"
      ]
     },
     "execution_count": 12,
     "metadata": {},
     "output_type": "execute_result"
    }
   ],
   "source": [
    "drug_df.groupby('distance').size()"
   ]
  },
  {
   "cell_type": "markdown",
   "metadata": {},
   "source": [
    "* Time of day when drug-related crime incidents occur: "
   ]
  },
  {
   "cell_type": "code",
   "execution_count": 13,
   "metadata": {},
   "outputs": [
    {
     "data": {
      "text/plain": [
       "<AxesSubplot:xlabel='hour'>"
      ]
     },
     "execution_count": 13,
     "metadata": {},
     "output_type": "execute_result"
    }
   ],
   "source": [
    "drug_df.groupby('hour').size().plot(kind='bar', figsize=(12,4))"
   ]
  },
  {
   "cell_type": "markdown",
   "metadata": {},
   "source": [
    "### Observations (Part 2)\n",
    "\n",
    "* Narcotic / drug law violations frequently occur at night (does NOT mean they are the most frequent crime); with peaks at the 19 hour mark (7:00 PM). \n",
    "* Arson is most likely to be committed earlier in the day in 2020 compared to other crimes covered in this data set.\n",
    "* Personally, I think drug abuse is a huge issue in Philly (I'm actually conducting a research study right now on tobacco!), so I'd like to dive a bit deeper and compare these rates across the span of the last 10 years. \n",
    "* Many crimes occur past the 10 hour mark (less frequent in the morning). \n"
   ]
  }
 ],
 "metadata": {
  "kernelspec": {
   "display_name": "Python 3",
   "language": "python",
   "name": "python3"
  },
  "language_info": {
   "codemirror_mode": {
    "name": "ipython",
    "version": 3
   },
   "file_extension": ".py",
   "mimetype": "text/x-python",
   "name": "python",
   "nbconvert_exporter": "python",
   "pygments_lexer": "ipython3",
   "version": "3.7.3"
  }
 },
 "nbformat": 4,
 "nbformat_minor": 2
}
