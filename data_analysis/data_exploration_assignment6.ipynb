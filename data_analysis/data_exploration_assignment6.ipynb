{
 "cells": [
  {
   "cell_type": "markdown",
   "metadata": {},
   "source": [
    "# Data Exploration (Assignment 6)\n",
    "\n",
    "* UPDATE: After examining the data sets in greater detail, I have decided to shift my study to examine the relationships between crime and the quality of police involvement (rather than Center City crime preventative efforts).\n",
    "* Please note that the first few cells is me running basic data analysis on the data sets. Will be indicating when I follow Assignment 6's 5-step methodology after I find general patterns!\n",
    "* There are two buckets of data sets I will be examining: 1) the types of Philly crimes (from 2015 - 2020, each year constitutes its own data set) and 2) complaints made against police officers, the demographics of the police indicted, and the demographics of those who filed the complaints against the police (from 2015 - 2020).  "
   ]
  },
  {
   "cell_type": "code",
   "execution_count": 1,
   "metadata": {},
   "outputs": [],
   "source": [
    "import pandas as pd\n",
    "import os"
   ]
  },
  {
   "cell_type": "markdown",
   "metadata": {},
   "source": [
    "### 2015 Philly Crime Incidents (initial data exploration)"
   ]
  },
  {
   "cell_type": "code",
   "execution_count": 2,
   "metadata": {},
   "outputs": [],
   "source": [
    "philly2015_df=pd.read_csv('../data/philly2015.csv')"
   ]
  },
  {
   "cell_type": "code",
   "execution_count": 3,
   "metadata": {},
   "outputs": [
    {
     "data": {
      "text/plain": [
       "(174723, 15)"
      ]
     },
     "execution_count": 3,
     "metadata": {},
     "output_type": "execute_result"
    }
   ],
   "source": [
    "philly2015_df.shape"
   ]
  },
  {
   "cell_type": "code",
   "execution_count": 4,
   "metadata": {},
   "outputs": [
    {
     "data": {
      "text/plain": [
       "Index(['objectid', 'dc_dist', 'psa', 'dispatch_date_time', 'dispatch_date',\n",
       "       'dispatch_time', 'hour_', 'dc_key', 'location_block', 'ucr_general',\n",
       "       'text_general_code', 'point_x', 'point_y', 'lat', 'lng'],\n",
       "      dtype='object')"
      ]
     },
     "execution_count": 4,
     "metadata": {},
     "output_type": "execute_result"
    }
   ],
   "source": [
    "philly2015_df.columns"
   ]
  },
  {
   "cell_type": "code",
   "execution_count": 5,
   "metadata": {},
   "outputs": [
    {
     "data": {
      "text/html": [
       "<div>\n",
       "<style scoped>\n",
       "    .dataframe tbody tr th:only-of-type {\n",
       "        vertical-align: middle;\n",
       "    }\n",
       "\n",
       "    .dataframe tbody tr th {\n",
       "        vertical-align: top;\n",
       "    }\n",
       "\n",
       "    .dataframe thead th {\n",
       "        text-align: right;\n",
       "    }\n",
       "</style>\n",
       "<table border=\"1\" class=\"dataframe\">\n",
       "  <thead>\n",
       "    <tr style=\"text-align: right;\">\n",
       "      <th></th>\n",
       "      <th>objectid</th>\n",
       "      <th>dc_dist</th>\n",
       "      <th>psa</th>\n",
       "      <th>dispatch_date_time</th>\n",
       "      <th>dispatch_date</th>\n",
       "      <th>dispatch_time</th>\n",
       "      <th>hour_</th>\n",
       "      <th>dc_key</th>\n",
       "      <th>location_block</th>\n",
       "      <th>ucr_general</th>\n",
       "      <th>text_general_code</th>\n",
       "      <th>point_x</th>\n",
       "      <th>point_y</th>\n",
       "      <th>lat</th>\n",
       "      <th>lng</th>\n",
       "    </tr>\n",
       "  </thead>\n",
       "  <tbody>\n",
       "    <tr>\n",
       "      <th>0</th>\n",
       "      <td>111</td>\n",
       "      <td>9</td>\n",
       "      <td>1</td>\n",
       "      <td>2015-04-15 11:14:00</td>\n",
       "      <td>2015-04-15</td>\n",
       "      <td>11:14:00</td>\n",
       "      <td>11</td>\n",
       "      <td>201509015124</td>\n",
       "      <td>100 BLOCK S BROAD ST</td>\n",
       "      <td>600</td>\n",
       "      <td>Thefts</td>\n",
       "      <td>-75.066628</td>\n",
       "      <td>40.049264</td>\n",
       "      <td>40.049264</td>\n",
       "      <td>-75.066628</td>\n",
       "    </tr>\n",
       "    <tr>\n",
       "      <th>1</th>\n",
       "      <td>2</td>\n",
       "      <td>9</td>\n",
       "      <td>2</td>\n",
       "      <td>2015-01-31 12:45:00</td>\n",
       "      <td>2015-01-31</td>\n",
       "      <td>12:45:00</td>\n",
       "      <td>12</td>\n",
       "      <td>201509003948</td>\n",
       "      <td>1400 BLOCK SPRING GARDEN ST 210</td>\n",
       "      <td>600</td>\n",
       "      <td>Thefts</td>\n",
       "      <td>-75.161446</td>\n",
       "      <td>39.962334</td>\n",
       "      <td>39.962334</td>\n",
       "      <td>-75.161446</td>\n",
       "    </tr>\n",
       "    <tr>\n",
       "      <th>2</th>\n",
       "      <td>3</td>\n",
       "      <td>9</td>\n",
       "      <td>2</td>\n",
       "      <td>2015-02-17 20:21:00</td>\n",
       "      <td>2015-02-17</td>\n",
       "      <td>20:21:00</td>\n",
       "      <td>20</td>\n",
       "      <td>201509006594</td>\n",
       "      <td>1400 BLOCK SPRING GARDEN ST</td>\n",
       "      <td>600</td>\n",
       "      <td>Thefts</td>\n",
       "      <td>-75.161446</td>\n",
       "      <td>39.962334</td>\n",
       "      <td>39.962334</td>\n",
       "      <td>-75.161446</td>\n",
       "    </tr>\n",
       "    <tr>\n",
       "      <th>3</th>\n",
       "      <td>4</td>\n",
       "      <td>9</td>\n",
       "      <td>2</td>\n",
       "      <td>2015-04-01 08:05:00</td>\n",
       "      <td>2015-04-01</td>\n",
       "      <td>08:05:00</td>\n",
       "      <td>8</td>\n",
       "      <td>201509012932</td>\n",
       "      <td>1400 BLOCK SPRING GARDEN ST</td>\n",
       "      <td>600</td>\n",
       "      <td>Thefts</td>\n",
       "      <td>-75.161446</td>\n",
       "      <td>39.962334</td>\n",
       "      <td>39.962334</td>\n",
       "      <td>-75.161446</td>\n",
       "    </tr>\n",
       "    <tr>\n",
       "      <th>4</th>\n",
       "      <td>5</td>\n",
       "      <td>9</td>\n",
       "      <td>2</td>\n",
       "      <td>2015-10-26 18:06:00</td>\n",
       "      <td>2015-10-26</td>\n",
       "      <td>18:06:00</td>\n",
       "      <td>18</td>\n",
       "      <td>201509045628</td>\n",
       "      <td>1400 BLOCK SPRING GARDEN ST</td>\n",
       "      <td>600</td>\n",
       "      <td>Thefts</td>\n",
       "      <td>-75.161446</td>\n",
       "      <td>39.962334</td>\n",
       "      <td>39.962334</td>\n",
       "      <td>-75.161446</td>\n",
       "    </tr>\n",
       "  </tbody>\n",
       "</table>\n",
       "</div>"
      ],
      "text/plain": [
       "   objectid  dc_dist psa   dispatch_date_time dispatch_date dispatch_time  \\\n",
       "0       111        9   1  2015-04-15 11:14:00    2015-04-15      11:14:00   \n",
       "1         2        9   2  2015-01-31 12:45:00    2015-01-31      12:45:00   \n",
       "2         3        9   2  2015-02-17 20:21:00    2015-02-17      20:21:00   \n",
       "3         4        9   2  2015-04-01 08:05:00    2015-04-01      08:05:00   \n",
       "4         5        9   2  2015-10-26 18:06:00    2015-10-26      18:06:00   \n",
       "\n",
       "   hour_        dc_key                   location_block  ucr_general  \\\n",
       "0     11  201509015124             100 BLOCK S BROAD ST          600   \n",
       "1     12  201509003948  1400 BLOCK SPRING GARDEN ST 210          600   \n",
       "2     20  201509006594      1400 BLOCK SPRING GARDEN ST          600   \n",
       "3      8  201509012932      1400 BLOCK SPRING GARDEN ST          600   \n",
       "4     18  201509045628      1400 BLOCK SPRING GARDEN ST          600   \n",
       "\n",
       "  text_general_code    point_x    point_y        lat        lng  \n",
       "0            Thefts -75.066628  40.049264  40.049264 -75.066628  \n",
       "1            Thefts -75.161446  39.962334  39.962334 -75.161446  \n",
       "2            Thefts -75.161446  39.962334  39.962334 -75.161446  \n",
       "3            Thefts -75.161446  39.962334  39.962334 -75.161446  \n",
       "4            Thefts -75.161446  39.962334  39.962334 -75.161446  "
      ]
     },
     "execution_count": 5,
     "metadata": {},
     "output_type": "execute_result"
    }
   ],
   "source": [
    "philly2015_df.head()"
   ]
  },
  {
   "cell_type": "code",
   "execution_count": 6,
   "metadata": {},
   "outputs": [
    {
     "data": {
      "text/html": [
       "<div>\n",
       "<style scoped>\n",
       "    .dataframe tbody tr th:only-of-type {\n",
       "        vertical-align: middle;\n",
       "    }\n",
       "\n",
       "    .dataframe tbody tr th {\n",
       "        vertical-align: top;\n",
       "    }\n",
       "\n",
       "    .dataframe thead th {\n",
       "        text-align: right;\n",
       "    }\n",
       "</style>\n",
       "<table border=\"1\" class=\"dataframe\">\n",
       "  <thead>\n",
       "    <tr style=\"text-align: right;\">\n",
       "      <th></th>\n",
       "      <th>objectid</th>\n",
       "      <th>dc_dist</th>\n",
       "      <th>psa</th>\n",
       "      <th>dispatch_date_time</th>\n",
       "      <th>dispatch_date</th>\n",
       "      <th>dispatch_time</th>\n",
       "      <th>hour_</th>\n",
       "      <th>dc_key</th>\n",
       "      <th>location_block</th>\n",
       "      <th>ucr_general</th>\n",
       "      <th>text_general_code</th>\n",
       "      <th>point_x</th>\n",
       "      <th>point_y</th>\n",
       "      <th>lat</th>\n",
       "      <th>lng</th>\n",
       "    </tr>\n",
       "  </thead>\n",
       "  <tbody>\n",
       "    <tr>\n",
       "      <th>174718</th>\n",
       "      <td>2610550</td>\n",
       "      <td>2</td>\n",
       "      <td>2</td>\n",
       "      <td>2015-01-21 01:31:00</td>\n",
       "      <td>2015-01-21</td>\n",
       "      <td>01:31:00</td>\n",
       "      <td>1</td>\n",
       "      <td>201502003891</td>\n",
       "      <td>1000 BLOCK TYSON AVE</td>\n",
       "      <td>700</td>\n",
       "      <td>Motor Vehicle Theft</td>\n",
       "      <td>-75.078542</td>\n",
       "      <td>40.051339</td>\n",
       "      <td>40.051339</td>\n",
       "      <td>-75.078542</td>\n",
       "    </tr>\n",
       "    <tr>\n",
       "      <th>174719</th>\n",
       "      <td>2610554</td>\n",
       "      <td>6</td>\n",
       "      <td>1</td>\n",
       "      <td>2015-05-01 08:50:00</td>\n",
       "      <td>2015-05-01</td>\n",
       "      <td>08:50:00</td>\n",
       "      <td>8</td>\n",
       "      <td>201506019258</td>\n",
       "      <td>1200 BLOCK WOOD ST</td>\n",
       "      <td>700</td>\n",
       "      <td>Motor Vehicle Theft</td>\n",
       "      <td>-75.158837</td>\n",
       "      <td>39.958448</td>\n",
       "      <td>39.958448</td>\n",
       "      <td>-75.158837</td>\n",
       "    </tr>\n",
       "    <tr>\n",
       "      <th>174720</th>\n",
       "      <td>2610555</td>\n",
       "      <td>17</td>\n",
       "      <td>2</td>\n",
       "      <td>2015-02-24 11:34:00</td>\n",
       "      <td>2015-02-24</td>\n",
       "      <td>11:34:00</td>\n",
       "      <td>11</td>\n",
       "      <td>201517006837</td>\n",
       "      <td>1400 BLOCK WARFIELD ST</td>\n",
       "      <td>700</td>\n",
       "      <td>Motor Vehicle Theft</td>\n",
       "      <td>-75.200196</td>\n",
       "      <td>39.936014</td>\n",
       "      <td>39.936014</td>\n",
       "      <td>-75.200196</td>\n",
       "    </tr>\n",
       "    <tr>\n",
       "      <th>174721</th>\n",
       "      <td>2610556</td>\n",
       "      <td>17</td>\n",
       "      <td>2</td>\n",
       "      <td>2015-12-29 15:00:00</td>\n",
       "      <td>2015-12-29</td>\n",
       "      <td>15:00:00</td>\n",
       "      <td>15</td>\n",
       "      <td>201517064727</td>\n",
       "      <td>1400 BLOCK WARFIELD ST</td>\n",
       "      <td>700</td>\n",
       "      <td>Motor Vehicle Theft</td>\n",
       "      <td>-75.200196</td>\n",
       "      <td>39.936014</td>\n",
       "      <td>39.936014</td>\n",
       "      <td>-75.200196</td>\n",
       "    </tr>\n",
       "    <tr>\n",
       "      <th>174722</th>\n",
       "      <td>2610560</td>\n",
       "      <td>17</td>\n",
       "      <td>2</td>\n",
       "      <td>2015-01-06 18:41:00</td>\n",
       "      <td>2015-01-06</td>\n",
       "      <td>18:41:00</td>\n",
       "      <td>18</td>\n",
       "      <td>201517000665</td>\n",
       "      <td>1200 BLOCK S 29TH ST</td>\n",
       "      <td>700</td>\n",
       "      <td>Motor Vehicle Theft</td>\n",
       "      <td>-75.191880</td>\n",
       "      <td>39.938243</td>\n",
       "      <td>39.938243</td>\n",
       "      <td>-75.191880</td>\n",
       "    </tr>\n",
       "  </tbody>\n",
       "</table>\n",
       "</div>"
      ],
      "text/plain": [
       "        objectid  dc_dist psa   dispatch_date_time dispatch_date  \\\n",
       "174718   2610550        2   2  2015-01-21 01:31:00    2015-01-21   \n",
       "174719   2610554        6   1  2015-05-01 08:50:00    2015-05-01   \n",
       "174720   2610555       17   2  2015-02-24 11:34:00    2015-02-24   \n",
       "174721   2610556       17   2  2015-12-29 15:00:00    2015-12-29   \n",
       "174722   2610560       17   2  2015-01-06 18:41:00    2015-01-06   \n",
       "\n",
       "       dispatch_time  hour_        dc_key          location_block  \\\n",
       "174718      01:31:00      1  201502003891    1000 BLOCK TYSON AVE   \n",
       "174719      08:50:00      8  201506019258      1200 BLOCK WOOD ST   \n",
       "174720      11:34:00     11  201517006837  1400 BLOCK WARFIELD ST   \n",
       "174721      15:00:00     15  201517064727  1400 BLOCK WARFIELD ST   \n",
       "174722      18:41:00     18  201517000665    1200 BLOCK S 29TH ST   \n",
       "\n",
       "        ucr_general    text_general_code    point_x    point_y        lat  \\\n",
       "174718          700  Motor Vehicle Theft -75.078542  40.051339  40.051339   \n",
       "174719          700  Motor Vehicle Theft -75.158837  39.958448  39.958448   \n",
       "174720          700  Motor Vehicle Theft -75.200196  39.936014  39.936014   \n",
       "174721          700  Motor Vehicle Theft -75.200196  39.936014  39.936014   \n",
       "174722          700  Motor Vehicle Theft -75.191880  39.938243  39.938243   \n",
       "\n",
       "              lng  \n",
       "174718 -75.078542  \n",
       "174719 -75.158837  \n",
       "174720 -75.200196  \n",
       "174721 -75.200196  \n",
       "174722 -75.191880  "
      ]
     },
     "execution_count": 6,
     "metadata": {},
     "output_type": "execute_result"
    }
   ],
   "source": [
    "philly2015_df.tail()"
   ]
  },
  {
   "cell_type": "markdown",
   "metadata": {},
   "source": [
    "### Observations\n",
    "\n",
    "* each row is a reported crime incident\n",
    "* columns:\n",
    "    * `objectid` - unique identification number for each case / crime (QUANTITATIVE)\n",
    "    * `dc_dist` - distance from the Philadelphia Police? Need to confirm! (QUANTITATIVE)\n",
    "    * `dispatch_date_time` - date and time in which the crime was reported (QUANTITATIVE)\n",
    "    * `dispatch_date` - date in which the crime was reported (QUANTITATIVE)\n",
    "    * `dispatch_time` - time in which the crime was reported (24 hour cycle) (QUANTITATIVE)\n",
    "    * `hour_` - rounded hour for crime occurrence (note that hours round \"down\") (QUANTITATIVE)\n",
    "    * `dc_key` - unique identification code (not sure for what though) (QUANTITATIVE)\n",
    "    * `location_block` - general location area within Philadelphia region that the crime occurred at (QUALITATIVE)\n",
    "    * `ucr_general` - broad UCR code, standard for crime reporting from FBI (QUANTITATIVE)\n",
    "    * `text_general_code` - type of crime in coded format, standard for crime reporting from FBI (QUALITATIVE)\n",
    "    * `point_x` - longitude coordinate (QUANTITATIVE)\n",
    "    * `point_y` - latitude coordinate (QUANTITATIVE)\n",
    "    * `lat` - equivalent of point_y column (QUANTITATIVE)\n",
    "    * `lng` - equivalent of point_x column (QUANTITATIVE)"
   ]
  },
  {
   "cell_type": "code",
   "execution_count": 7,
   "metadata": {},
   "outputs": [
    {
     "name": "stdout",
     "output_type": "stream",
     "text": [
      "             id  distance             datetime        date      time  hour  \\\n",
      "0           111         9  2015-04-15 11:14:00  2015-04-15  11:14:00    11   \n",
      "1             2         9  2015-01-31 12:45:00  2015-01-31  12:45:00    12   \n",
      "2             3         9  2015-02-17 20:21:00  2015-02-17  20:21:00    20   \n",
      "3             4         9  2015-04-01 08:05:00  2015-04-01  08:05:00     8   \n",
      "4             5         9  2015-10-26 18:06:00  2015-10-26  18:06:00    18   \n",
      "...         ...       ...                  ...         ...       ...   ...   \n",
      "174718  2610550         2  2015-01-21 01:31:00  2015-01-21  01:31:00     1   \n",
      "174719  2610554         6  2015-05-01 08:50:00  2015-05-01  08:50:00     8   \n",
      "174720  2610555        17  2015-02-24 11:34:00  2015-02-24  11:34:00    11   \n",
      "174721  2610556        17  2015-12-29 15:00:00  2015-12-29  15:00:00    15   \n",
      "174722  2610560        17  2015-01-06 18:41:00  2015-01-06  18:41:00    18   \n",
      "\n",
      "                 key                         location  ucr  \\\n",
      "0       201509015124             100 BLOCK S BROAD ST  600   \n",
      "1       201509003948  1400 BLOCK SPRING GARDEN ST 210  600   \n",
      "2       201509006594      1400 BLOCK SPRING GARDEN ST  600   \n",
      "3       201509012932      1400 BLOCK SPRING GARDEN ST  600   \n",
      "4       201509045628      1400 BLOCK SPRING GARDEN ST  600   \n",
      "...              ...                              ...  ...   \n",
      "174718  201502003891             1000 BLOCK TYSON AVE  700   \n",
      "174719  201506019258               1200 BLOCK WOOD ST  700   \n",
      "174720  201517006837           1400 BLOCK WARFIELD ST  700   \n",
      "174721  201517064727           1400 BLOCK WARFIELD ST  700   \n",
      "174722  201517000665             1200 BLOCK S 29TH ST  700   \n",
      "\n",
      "                  crimetype          x          y  latitutde  longitude  \n",
      "0                    Thefts -75.066628  40.049264  40.049264 -75.066628  \n",
      "1                    Thefts -75.161446  39.962334  39.962334 -75.161446  \n",
      "2                    Thefts -75.161446  39.962334  39.962334 -75.161446  \n",
      "3                    Thefts -75.161446  39.962334  39.962334 -75.161446  \n",
      "4                    Thefts -75.161446  39.962334  39.962334 -75.161446  \n",
      "...                     ...        ...        ...        ...        ...  \n",
      "174718  Motor Vehicle Theft -75.078542  40.051339  40.051339 -75.078542  \n",
      "174719  Motor Vehicle Theft -75.158837  39.958448  39.958448 -75.158837  \n",
      "174720  Motor Vehicle Theft -75.200196  39.936014  39.936014 -75.200196  \n",
      "174721  Motor Vehicle Theft -75.200196  39.936014  39.936014 -75.200196  \n",
      "174722  Motor Vehicle Theft -75.191880  39.938243  39.938243 -75.191880  \n",
      "\n",
      "[174723 rows x 14 columns]\n"
     ]
    }
   ],
   "source": [
    "cols_to_use = ['objectid', 'dc_dist', 'dispatch_date_time', 'dispatch_date', 'dispatch_time', 'hour_', 'dc_key', 'location_block', 'ucr_general', 'text_general_code', 'point_x', 'point_y', 'lat','lng']\n",
    "philly2015_df2 = philly2015_df[cols_to_use]\n",
    "philly2015_df2 = philly2015_df2.rename(columns={\n",
    "    'objectid':'id',\n",
    "    'dc_dist':'distance',\n",
    "    'dispatch_date_time':'datetime',\n",
    "    'dispatch_date':'date',\n",
    "    'dispatch_time':'time',\n",
    "    'hour_':'hour',\n",
    "    'dc_key':'key',\n",
    "    'location_block':'location',\n",
    "    'ucr_general':'ucr',\n",
    "    'text_general_code':'crimetype',\n",
    "    'point_x':'x',\n",
    "    'point_y':'y',\n",
    "    'lat':'latitutde',\n",
    "    'lng':'longitude'})\n",
    "print(philly2015_df2)"
   ]
  },
  {
   "cell_type": "code",
   "execution_count": 8,
   "metadata": {},
   "outputs": [
    {
     "data": {
      "text/plain": [
       "array(['Thefts', 'Aggravated Assault No Firearm',\n",
       "       'Burglary Non-Residential', 'Robbery Firearm',\n",
       "       'Theft from Vehicle', 'Robbery No Firearm', 'Burglary Residential',\n",
       "       'Rape', 'Aggravated Assault Firearm', 'Vagrancy/Loitering',\n",
       "       'Fraud', 'All Other Offenses', 'Other Assaults',\n",
       "       'Vandalism/Criminal Mischief',\n",
       "       'Other Sex Offenses (Not Commercialized)', 'Disorderly Conduct',\n",
       "       'DRIVING UNDER THE INFLUENCE', 'Receiving Stolen Property',\n",
       "       'Narcotic / Drug Law Violations', 'Weapon Violations',\n",
       "       'Prostitution and Commercialized Vice', 'Public Drunkenness',\n",
       "       'Liquor Law Violations', 'Arson', 'Embezzlement',\n",
       "       'Forgery and Counterfeiting',\n",
       "       'Offenses Against Family and Children', 'Gambling Violations',\n",
       "       'Homicide - Criminal', 'Homicide - Criminal ',\n",
       "       'Homicide - Justifiable ', 'Motor Vehicle Theft'], dtype=object)"
      ]
     },
     "execution_count": 8,
     "metadata": {},
     "output_type": "execute_result"
    }
   ],
   "source": [
    "philly2015_df2['crimetype'].unique()"
   ]
  },
  {
   "cell_type": "code",
   "execution_count": 9,
   "metadata": {},
   "outputs": [
    {
     "data": {
      "text/plain": [
       "All Other Offenses                         41180\n",
       "Other Assaults                             23652\n",
       "Thefts                                     22913\n",
       "Vandalism/Criminal Mischief                15291\n",
       "Theft from Vehicle                         12761\n",
       "Fraud                                      12460\n",
       "Narcotic / Drug Law Violations              7567\n",
       "Burglary Residential                        6628\n",
       "Aggravated Assault No Firearm               5392\n",
       "DRIVING UNDER THE INFLUENCE                 3863\n",
       "Robbery No Firearm                          3780\n",
       "Disorderly Conduct                          2954\n",
       "Robbery Firearm                             2854\n",
       "Aggravated Assault Firearm                  2260\n",
       "Motor Vehicle Theft                         1669\n",
       "Burglary Non-Residential                    1451\n",
       "Rape                                        1324\n",
       "Weapon Violations                           1324\n",
       "Other Sex Offenses (Not Commercialized)     1078\n",
       "Prostitution and Commercialized Vice        1049\n",
       "Vagrancy/Loitering                          1040\n",
       "Public Drunkenness                           519\n",
       "Embezzlement                                 391\n",
       "Arson                                        325\n",
       "Liquor Law Violations                        274\n",
       "Homicide - Criminal                          228\n",
       "Forgery and Counterfeiting                   210\n",
       "Offenses Against Family and Children         156\n",
       "Homicide - Criminal                           48\n",
       "Gambling Violations                           44\n",
       "Receiving Stolen Property                     34\n",
       "Homicide - Justifiable                         4\n",
       "Name: crimetype, dtype: int64"
      ]
     },
     "execution_count": 9,
     "metadata": {},
     "output_type": "execute_result"
    }
   ],
   "source": [
    "philly2015_df2['crimetype'].value_counts()"
   ]
  },
  {
   "cell_type": "code",
   "execution_count": 10,
   "metadata": {},
   "outputs": [
    {
     "data": {
      "text/plain": [
       "<AxesSubplot:xlabel='crimetype'>"
      ]
     },
     "execution_count": 10,
     "metadata": {},
     "output_type": "execute_result"
    }
   ],
   "source": [
    "philly2015_df2.groupby('crimetype').size().plot(kind='bar', figsize=(12,4))"
   ]
  },
  {
   "cell_type": "code",
   "execution_count": 11,
   "metadata": {},
   "outputs": [
    {
     "data": {
      "text/plain": [
       "crimetype\n",
       "Aggravated Assault Firearm                 13.482301\n",
       "Aggravated Assault No Firearm              12.890208\n",
       "All Other Offenses                         13.730719\n",
       "Arson                                      10.504615\n",
       "Burglary Non-Residential                   10.205376\n",
       "Burglary Residential                       13.433162\n",
       "DRIVING UNDER THE INFLUENCE                10.215377\n",
       "Disorderly Conduct                         14.187204\n",
       "Embezzlement                               13.734015\n",
       "Forgery and Counterfeiting                 14.304762\n",
       "Fraud                                      14.239727\n",
       "Gambling Violations                        14.045455\n",
       "Homicide - Criminal                        14.197368\n",
       "Homicide - Criminal                        11.604167\n",
       "Homicide - Justifiable                      5.500000\n",
       "Liquor Law Violations                      15.375912\n",
       "Motor Vehicle Theft                        12.614140\n",
       "Narcotic / Drug Law Violations             15.885688\n",
       "Offenses Against Family and Children       11.647436\n",
       "Other Assaults                             13.583925\n",
       "Other Sex Offenses (Not Commercialized)    14.079777\n",
       "Prostitution and Commercialized Vice       15.494757\n",
       "Public Drunkenness                         14.406551\n",
       "Rape                                       13.070242\n",
       "Receiving Stolen Property                  13.588235\n",
       "Robbery Firearm                            13.035739\n",
       "Robbery No Firearm                         13.019048\n",
       "Theft from Vehicle                         12.286890\n",
       "Thefts                                     14.138742\n",
       "Vagrancy/Loitering                         14.072115\n",
       "Vandalism/Criminal Mischief                12.720685\n",
       "Weapon Violations                          13.419940\n",
       "Name: hour, dtype: float64"
      ]
     },
     "execution_count": 11,
     "metadata": {},
     "output_type": "execute_result"
    }
   ],
   "source": [
    "philly2015_df2.groupby('crimetype')['hour'].mean()"
   ]
  },
  {
   "cell_type": "markdown",
   "metadata": {},
   "source": [
    "### 2015 Philly Crime Incidents (Assignment 6 five-step blocks) | #1\n",
    "\n",
    "In this block, I will answer the question: what is the distribution of drug (Narcotic / Drug Law Violations) incidents by the Philadelphia Police in 2015? \n",
    "\n",
    "STEPS:\n",
    "* Create filters for rows where `crimetype` is 'Narcotic / Drug Law Violations'\n",
    "* Count the number of rows\n",
    "* Graph time of day and drug violations occurrences"
   ]
  },
  {
   "cell_type": "code",
   "execution_count": 12,
   "metadata": {},
   "outputs": [
    {
     "data": {
      "text/plain": [
       "(7567, 14)"
      ]
     },
     "execution_count": 12,
     "metadata": {},
     "output_type": "execute_result"
    }
   ],
   "source": [
    "# Create filters for rows where `crimetype` is 'Narcotic / Drug Law Violations' \n",
    "philly2015drug_filter = philly2015_df2['crimetype']=='Narcotic / Drug Law Violations'\n",
    "philly2015drug_df = philly2015_df2[philly2015drug_filter]\n",
    "\n",
    "# Count the number of rows \n",
    "philly2015drug_df.shape"
   ]
  },
  {
   "cell_type": "code",
   "execution_count": 13,
   "metadata": {},
   "outputs": [
    {
     "data": {
      "text/plain": [
       "<AxesSubplot:xlabel='hour'>"
      ]
     },
     "execution_count": 13,
     "metadata": {},
     "output_type": "execute_result"
    },
    {
     "data": {
      "image/png": "[encoded data removed]",
      "text/plain": [
       "<Figure size 864x288 with 1 Axes>"
      ]
     },
     "metadata": {
      "needs_background": "light"
     },
     "output_type": "display_data"
    }
   ],
   "source": [
    "# Graph time of day and drug violations occurrences\n",
    "philly2015drug_df.groupby('hour').size().plot(kind='bar', figsize=(12,4))"
   ]
  },
  {
   "cell_type": "markdown",
   "metadata": {
    "slideshow": {
     "slide_type": "slide"
    }
   },
   "source": [
    "In narrative form, there are over 7500 instances of narcotic and drug law violations documented by the Philadelphia Police in 2015. \n",
    "\n",
    "Some observations:\n",
    "* Peak hour of violations occur at the 20-mark (8:00 PM EST), most \"inactive\" hour is at the 6-mark (6:00 AM EST). \n",
    "* Wonder if this pattern follows similar trajectory in future years."
   ]
  },
  {
   "cell_type": "markdown",
   "metadata": {},
   "source": [
    "### 2016 Philly Crime Incidents (initial data exploration)"
   ]
  },
  {
   "cell_type": "code",
   "execution_count": 14,
   "metadata": {},
   "outputs": [],
   "source": [
    "philly2016_df=pd.read_csv('../data/philly2016.csv')"
   ]
  },
  {
   "cell_type": "code",
   "execution_count": 15,
   "metadata": {},
   "outputs": [
    {
     "data": {
      "text/plain": [
       "(159605, 15)"
      ]
     },
     "execution_count": 15,
     "metadata": {},
     "output_type": "execute_result"
    }
   ],
   "source": [
    "philly2016_df.shape"
   ]
  },
  {
   "cell_type": "code",
   "execution_count": 16,
   "metadata": {},
   "outputs": [
    {
     "data": {
      "text/plain": [
       "Index(['objectid', 'dc_dist', 'psa', 'dispatch_date_time', 'dispatch_date',\n",
       "       'dispatch_time', 'hour_', 'dc_key', 'location_block', 'ucr_general',\n",
       "       'text_general_code', 'point_x', 'point_y', 'lat', 'lng'],\n",
       "      dtype='object')"
      ]
     },
     "execution_count": 16,
     "metadata": {},
     "output_type": "execute_result"
    }
   ],
   "source": [
    "philly2016_df.columns"
   ]
  },
  {
   "cell_type": "code",
   "execution_count": 17,
   "metadata": {},
   "outputs": [
    {
     "data": {
      "text/html": [
       "<div>\n",
       "<style scoped>\n",
       "    .dataframe tbody tr th:only-of-type {\n",
       "        vertical-align: middle;\n",
       "    }\n",
       "\n",
       "    .dataframe tbody tr th {\n",
       "        vertical-align: top;\n",
       "    }\n",
       "\n",
       "    .dataframe thead th {\n",
       "        text-align: right;\n",
       "    }\n",
       "</style>\n",
       "<table border=\"1\" class=\"dataframe\">\n",
       "  <thead>\n",
       "    <tr style=\"text-align: right;\">\n",
       "      <th></th>\n",
       "      <th>objectid</th>\n",
       "      <th>dc_dist</th>\n",
       "      <th>psa</th>\n",
       "      <th>dispatch_date_time</th>\n",
       "      <th>dispatch_date</th>\n",
       "      <th>dispatch_time</th>\n",
       "      <th>hour_</th>\n",
       "      <th>dc_key</th>\n",
       "      <th>location_block</th>\n",
       "      <th>ucr_general</th>\n",
       "      <th>text_general_code</th>\n",
       "      <th>point_x</th>\n",
       "      <th>point_y</th>\n",
       "      <th>lat</th>\n",
       "      <th>lng</th>\n",
       "    </tr>\n",
       "  </thead>\n",
       "  <tbody>\n",
       "    <tr>\n",
       "      <th>0</th>\n",
       "      <td>112</td>\n",
       "      <td>9</td>\n",
       "      <td>1</td>\n",
       "      <td>2016-08-09 20:07:00</td>\n",
       "      <td>2016-08-09</td>\n",
       "      <td>20:07:00</td>\n",
       "      <td>20</td>\n",
       "      <td>201609031759</td>\n",
       "      <td>100 BLOCK S BROAD ST</td>\n",
       "      <td>600</td>\n",
       "      <td>Thefts</td>\n",
       "      <td>-75.066628</td>\n",
       "      <td>40.049264</td>\n",
       "      <td>40.049264</td>\n",
       "      <td>-75.066628</td>\n",
       "    </tr>\n",
       "    <tr>\n",
       "      <th>1</th>\n",
       "      <td>113</td>\n",
       "      <td>9</td>\n",
       "      <td>1</td>\n",
       "      <td>2016-10-18 09:54:00</td>\n",
       "      <td>2016-10-18</td>\n",
       "      <td>09:54:00</td>\n",
       "      <td>9</td>\n",
       "      <td>201609042436</td>\n",
       "      <td>100 BLOCK S BROAD ST</td>\n",
       "      <td>500</td>\n",
       "      <td>Burglary Non-Residential</td>\n",
       "      <td>-75.066628</td>\n",
       "      <td>40.049264</td>\n",
       "      <td>40.049264</td>\n",
       "      <td>-75.066628</td>\n",
       "    </tr>\n",
       "    <tr>\n",
       "      <th>2</th>\n",
       "      <td>130</td>\n",
       "      <td>9</td>\n",
       "      <td>2</td>\n",
       "      <td>2016-06-06 10:49:00</td>\n",
       "      <td>2016-06-06</td>\n",
       "      <td>10:49:00</td>\n",
       "      <td>10</td>\n",
       "      <td>201609022092</td>\n",
       "      <td>1400 BLOCK SPRING GARDEN ST</td>\n",
       "      <td>400</td>\n",
       "      <td>Aggravated Assault No Firearm</td>\n",
       "      <td>-75.161446</td>\n",
       "      <td>39.962334</td>\n",
       "      <td>39.962334</td>\n",
       "      <td>-75.161446</td>\n",
       "    </tr>\n",
       "    <tr>\n",
       "      <th>3</th>\n",
       "      <td>131</td>\n",
       "      <td>9</td>\n",
       "      <td>2</td>\n",
       "      <td>2016-06-06 10:50:00</td>\n",
       "      <td>2016-06-06</td>\n",
       "      <td>10:50:00</td>\n",
       "      <td>10</td>\n",
       "      <td>201609022093</td>\n",
       "      <td>1400 BLOCK SPRING GARDEN ST</td>\n",
       "      <td>400</td>\n",
       "      <td>Aggravated Assault No Firearm</td>\n",
       "      <td>-75.161446</td>\n",
       "      <td>39.962334</td>\n",
       "      <td>39.962334</td>\n",
       "      <td>-75.161446</td>\n",
       "    </tr>\n",
       "    <tr>\n",
       "      <th>4</th>\n",
       "      <td>132</td>\n",
       "      <td>9</td>\n",
       "      <td>2</td>\n",
       "      <td>2016-06-21 13:40:00</td>\n",
       "      <td>2016-06-21</td>\n",
       "      <td>13:40:00</td>\n",
       "      <td>13</td>\n",
       "      <td>201609024487</td>\n",
       "      <td>1400 BLOCK SPRING GARDEN ST</td>\n",
       "      <td>600</td>\n",
       "      <td>Theft from Vehicle</td>\n",
       "      <td>-75.161446</td>\n",
       "      <td>39.962334</td>\n",
       "      <td>39.962334</td>\n",
       "      <td>-75.161446</td>\n",
       "    </tr>\n",
       "  </tbody>\n",
       "</table>\n",
       "</div>"
      ],
      "text/plain": [
       "   objectid  dc_dist psa   dispatch_date_time dispatch_date dispatch_time  \\\n",
       "0       112        9   1  2016-08-09 20:07:00    2016-08-09      20:07:00   \n",
       "1       113        9   1  2016-10-18 09:54:00    2016-10-18      09:54:00   \n",
       "2       130        9   2  2016-06-06 10:49:00    2016-06-06      10:49:00   \n",
       "3       131        9   2  2016-06-06 10:50:00    2016-06-06      10:50:00   \n",
       "4       132        9   2  2016-06-21 13:40:00    2016-06-21      13:40:00   \n",
       "\n",
       "   hour_        dc_key               location_block  ucr_general  \\\n",
       "0     20  201609031759         100 BLOCK S BROAD ST          600   \n",
       "1      9  201609042436         100 BLOCK S BROAD ST          500   \n",
       "2     10  201609022092  1400 BLOCK SPRING GARDEN ST          400   \n",
       "3     10  201609022093  1400 BLOCK SPRING GARDEN ST          400   \n",
       "4     13  201609024487  1400 BLOCK SPRING GARDEN ST          600   \n",
       "\n",
       "               text_general_code    point_x    point_y        lat        lng  \n",
       "0                         Thefts -75.066628  40.049264  40.049264 -75.066628  \n",
       "1       Burglary Non-Residential -75.066628  40.049264  40.049264 -75.066628  \n",
       "2  Aggravated Assault No Firearm -75.161446  39.962334  39.962334 -75.161446  \n",
       "3  Aggravated Assault No Firearm -75.161446  39.962334  39.962334 -75.161446  \n",
       "4             Theft from Vehicle -75.161446  39.962334  39.962334 -75.161446  "
      ]
     },
     "execution_count": 17,
     "metadata": {},
     "output_type": "execute_result"
    }
   ],
   "source": [
    "philly2016_df.head()"
   ]
  },
  {
   "cell_type": "code",
   "execution_count": 18,
   "metadata": {},
   "outputs": [
    {
     "data": {
      "text/html": [
       "<div>\n",
       "<style scoped>\n",
       "    .dataframe tbody tr th:only-of-type {\n",
       "        vertical-align: middle;\n",
       "    }\n",
       "\n",
       "    .dataframe tbody tr th {\n",
       "        vertical-align: top;\n",
       "    }\n",
       "\n",
       "    .dataframe thead th {\n",
       "        text-align: right;\n",
       "    }\n",
       "</style>\n",
       "<table border=\"1\" class=\"dataframe\">\n",
       "  <thead>\n",
       "    <tr style=\"text-align: right;\">\n",
       "      <th></th>\n",
       "      <th>objectid</th>\n",
       "      <th>dc_dist</th>\n",
       "      <th>psa</th>\n",
       "      <th>dispatch_date_time</th>\n",
       "      <th>dispatch_date</th>\n",
       "      <th>dispatch_time</th>\n",
       "      <th>hour_</th>\n",
       "      <th>dc_key</th>\n",
       "      <th>location_block</th>\n",
       "      <th>ucr_general</th>\n",
       "      <th>text_general_code</th>\n",
       "      <th>point_x</th>\n",
       "      <th>point_y</th>\n",
       "      <th>lat</th>\n",
       "      <th>lng</th>\n",
       "    </tr>\n",
       "  </thead>\n",
       "  <tbody>\n",
       "    <tr>\n",
       "      <th>159600</th>\n",
       "      <td>2610141</td>\n",
       "      <td>12</td>\n",
       "      <td>4</td>\n",
       "      <td>2016-11-19 13:58:00</td>\n",
       "      <td>2016-11-19</td>\n",
       "      <td>13:58:00</td>\n",
       "      <td>13</td>\n",
       "      <td>201612079500</td>\n",
       "      <td>1000 BLOCK S 57TH ST</td>\n",
       "      <td>700</td>\n",
       "      <td>Motor Vehicle Theft</td>\n",
       "      <td>-75.237079</td>\n",
       "      <td>39.945671</td>\n",
       "      <td>39.945671</td>\n",
       "      <td>-75.237079</td>\n",
       "    </tr>\n",
       "    <tr>\n",
       "      <th>159601</th>\n",
       "      <td>2610145</td>\n",
       "      <td>25</td>\n",
       "      <td>3</td>\n",
       "      <td>2016-06-02 12:45:00</td>\n",
       "      <td>2016-06-02</td>\n",
       "      <td>12:45:00</td>\n",
       "      <td>12</td>\n",
       "      <td>201625045811</td>\n",
       "      <td>3600 BLOCK N LAWRENCE ST</td>\n",
       "      <td>700</td>\n",
       "      <td>Motor Vehicle Theft</td>\n",
       "      <td>-75.136248</td>\n",
       "      <td>40.006015</td>\n",
       "      <td>40.006015</td>\n",
       "      <td>-75.136248</td>\n",
       "    </tr>\n",
       "    <tr>\n",
       "      <th>159602</th>\n",
       "      <td>2610552</td>\n",
       "      <td>25</td>\n",
       "      <td>2</td>\n",
       "      <td>2016-05-01 17:33:00</td>\n",
       "      <td>2016-05-01</td>\n",
       "      <td>17:33:00</td>\n",
       "      <td>17</td>\n",
       "      <td>201625035581</td>\n",
       "      <td>100 BLOCK E WINGOHOCKING ST</td>\n",
       "      <td>700</td>\n",
       "      <td>Motor Vehicle Theft</td>\n",
       "      <td>-75.124737</td>\n",
       "      <td>40.018374</td>\n",
       "      <td>40.018374</td>\n",
       "      <td>-75.124737</td>\n",
       "    </tr>\n",
       "    <tr>\n",
       "      <th>159603</th>\n",
       "      <td>674400</td>\n",
       "      <td>14</td>\n",
       "      <td>1</td>\n",
       "      <td>2016-02-23 17:29:00</td>\n",
       "      <td>2016-02-23</td>\n",
       "      <td>17:29:00</td>\n",
       "      <td>1</td>\n",
       "      <td>201614096797</td>\n",
       "      <td>1900 BLOCK RENOVO ST</td>\n",
       "      <td>600</td>\n",
       "      <td>Thefts</td>\n",
       "      <td>-75.149307</td>\n",
       "      <td>40.068115</td>\n",
       "      <td>40.068115</td>\n",
       "      <td>-75.149307</td>\n",
       "    </tr>\n",
       "    <tr>\n",
       "      <th>159604</th>\n",
       "      <td>777306</td>\n",
       "      <td>4</td>\n",
       "      <td>A</td>\n",
       "      <td>2016-06-21 10:43:00</td>\n",
       "      <td>2016-06-21</td>\n",
       "      <td>10:43:00</td>\n",
       "      <td>14</td>\n",
       "      <td>201604054585</td>\n",
       "      <td>100 BLOCK DURFOR ST</td>\n",
       "      <td>600</td>\n",
       "      <td>Thefts</td>\n",
       "      <td>-75.149997</td>\n",
       "      <td>39.918718</td>\n",
       "      <td>39.918718</td>\n",
       "      <td>-75.149997</td>\n",
       "    </tr>\n",
       "  </tbody>\n",
       "</table>\n",
       "</div>"
      ],
      "text/plain": [
       "        objectid  dc_dist psa   dispatch_date_time dispatch_date  \\\n",
       "159600   2610141       12   4  2016-11-19 13:58:00    2016-11-19   \n",
       "159601   2610145       25   3  2016-06-02 12:45:00    2016-06-02   \n",
       "159602   2610552       25   2  2016-05-01 17:33:00    2016-05-01   \n",
       "159603    674400       14   1  2016-02-23 17:29:00    2016-02-23   \n",
       "159604    777306        4   A  2016-06-21 10:43:00    2016-06-21   \n",
       "\n",
       "       dispatch_time  hour_        dc_key               location_block  \\\n",
       "159600      13:58:00     13  201612079500         1000 BLOCK S 57TH ST   \n",
       "159601      12:45:00     12  201625045811     3600 BLOCK N LAWRENCE ST   \n",
       "159602      17:33:00     17  201625035581  100 BLOCK E WINGOHOCKING ST   \n",
       "159603      17:29:00      1  201614096797         1900 BLOCK RENOVO ST   \n",
       "159604      10:43:00     14  201604054585          100 BLOCK DURFOR ST   \n",
       "\n",
       "        ucr_general    text_general_code    point_x    point_y        lat  \\\n",
       "159600          700  Motor Vehicle Theft -75.237079  39.945671  39.945671   \n",
       "159601          700  Motor Vehicle Theft -75.136248  40.006015  40.006015   \n",
       "159602          700  Motor Vehicle Theft -75.124737  40.018374  40.018374   \n",
       "159603          600               Thefts -75.149307  40.068115  40.068115   \n",
       "159604          600               Thefts -75.149997  39.918718  39.918718   \n",
       "\n",
       "              lng  \n",
       "159600 -75.237079  \n",
       "159601 -75.136248  \n",
       "159602 -75.124737  \n",
       "159603 -75.149307  \n",
       "159604 -75.149997  "
      ]
     },
     "execution_count": 18,
     "metadata": {},
     "output_type": "execute_result"
    }
   ],
   "source": [
    "philly2016_df.tail()"
   ]
  },
  {
   "cell_type": "code",
   "execution_count": 19,
   "metadata": {},
   "outputs": [
    {
     "name": "stdout",
     "output_type": "stream",
     "text": [
      "             id  distance             datetime        date      time  hour  \\\n",
      "0           112         9  2016-08-09 20:07:00  2016-08-09  20:07:00    20   \n",
      "1           113         9  2016-10-18 09:54:00  2016-10-18  09:54:00     9   \n",
      "2           130         9  2016-06-06 10:49:00  2016-06-06  10:49:00    10   \n",
      "3           131         9  2016-06-06 10:50:00  2016-06-06  10:50:00    10   \n",
      "4           132         9  2016-06-21 13:40:00  2016-06-21  13:40:00    13   \n",
      "...         ...       ...                  ...         ...       ...   ...   \n",
      "159600  2610141        12  2016-11-19 13:58:00  2016-11-19  13:58:00    13   \n",
      "159601  2610145        25  2016-06-02 12:45:00  2016-06-02  12:45:00    12   \n",
      "159602  2610552        25  2016-05-01 17:33:00  2016-05-01  17:33:00    17   \n",
      "159603   674400        14  2016-02-23 17:29:00  2016-02-23  17:29:00     1   \n",
      "159604   777306         4  2016-06-21 10:43:00  2016-06-21  10:43:00    14   \n",
      "\n",
      "                 key                     location  ucr  \\\n",
      "0       201609031759         100 BLOCK S BROAD ST  600   \n",
      "1       201609042436         100 BLOCK S BROAD ST  500   \n",
      "2       201609022092  1400 BLOCK SPRING GARDEN ST  400   \n",
      "3       201609022093  1400 BLOCK SPRING GARDEN ST  400   \n",
      "4       201609024487  1400 BLOCK SPRING GARDEN ST  600   \n",
      "...              ...                          ...  ...   \n",
      "159600  201612079500         1000 BLOCK S 57TH ST  700   \n",
      "159601  201625045811     3600 BLOCK N LAWRENCE ST  700   \n",
      "159602  201625035581  100 BLOCK E WINGOHOCKING ST  700   \n",
      "159603  201614096797         1900 BLOCK RENOVO ST  600   \n",
      "159604  201604054585          100 BLOCK DURFOR ST  600   \n",
      "\n",
      "                            crimetype          x          y  latitutde  \\\n",
      "0                              Thefts -75.066628  40.049264  40.049264   \n",
      "1            Burglary Non-Residential -75.066628  40.049264  40.049264   \n",
      "2       Aggravated Assault No Firearm -75.161446  39.962334  39.962334   \n",
      "3       Aggravated Assault No Firearm -75.161446  39.962334  39.962334   \n",
      "4                  Theft from Vehicle -75.161446  39.962334  39.962334   \n",
      "...                               ...        ...        ...        ...   \n",
      "159600            Motor Vehicle Theft -75.237079  39.945671  39.945671   \n",
      "159601            Motor Vehicle Theft -75.136248  40.006015  40.006015   \n",
      "159602            Motor Vehicle Theft -75.124737  40.018374  40.018374   \n",
      "159603                         Thefts -75.149307  40.068115  40.068115   \n",
      "159604                         Thefts -75.149997  39.918718  39.918718   \n",
      "\n",
      "        longitude  \n",
      "0      -75.066628  \n",
      "1      -75.066628  \n",
      "2      -75.161446  \n",
      "3      -75.161446  \n",
      "4      -75.161446  \n",
      "...           ...  \n",
      "159600 -75.237079  \n",
      "159601 -75.136248  \n",
      "159602 -75.124737  \n",
      "159603 -75.149307  \n",
      "159604 -75.149997  \n",
      "\n",
      "[159605 rows x 14 columns]\n"
     ]
    }
   ],
   "source": [
    "cols_to_use = ['objectid', 'dc_dist', 'dispatch_date_time', 'dispatch_date', 'dispatch_time', 'hour_', 'dc_key', 'location_block', 'ucr_general', 'text_general_code', 'point_x', 'point_y', 'lat','lng']\n",
    "philly2016_df2 = philly2016_df[cols_to_use]\n",
    "philly2016_df2 = philly2016_df2.rename(columns={\n",
    "    'objectid':'id',\n",
    "    'dc_dist':'distance',\n",
    "    'dispatch_date_time':'datetime',\n",
    "    'dispatch_date':'date',\n",
    "    'dispatch_time':'time',\n",
    "    'hour_':'hour',\n",
    "    'dc_key':'key',\n",
    "    'location_block':'location',\n",
    "    'ucr_general':'ucr',\n",
    "    'text_general_code':'crimetype',\n",
    "    'point_x':'x',\n",
    "    'point_y':'y',\n",
    "    'lat':'latitutde',\n",
    "    'lng':'longitude'})\n",
    "print(philly2016_df2)"
   ]
  },
  {
   "cell_type": "code",
   "execution_count": 20,
   "metadata": {},
   "outputs": [
    {
     "data": {
      "text/plain": [
       "All Other Offenses                         29568\n",
       "Other Assaults                             23824\n",
       "Thefts                                     22489\n",
       "Vandalism/Criminal Mischief                15682\n",
       "Theft from Vehicle                         13753\n",
       "Fraud                                      11776\n",
       "Narcotic / Drug Law Violations              7993\n",
       "Burglary Residential                        5601\n",
       "Aggravated Assault No Firearm               5348\n",
       "DRIVING UNDER THE INFLUENCE                 3701\n",
       "Robbery No Firearm                          3473\n",
       "Robbery Firearm                             2650\n",
       "Aggravated Assault Firearm                  2241\n",
       "Weapon Violations                           1899\n",
       "Disorderly Conduct                          1581\n",
       "Motor Vehicle Theft                         1550\n",
       "Burglary Non-Residential                    1393\n",
       "Rape                                        1234\n",
       "Other Sex Offenses (Not Commercialized)      927\n",
       "Prostitution and Commercialized Vice         924\n",
       "Arson                                        413\n",
       "Public Drunkenness                           377\n",
       "Embezzlement                                 370\n",
       "Homicide - Criminal                          228\n",
       "Forgery and Counterfeiting                   224\n",
       "Liquor Law Violations                        123\n",
       "Offenses Against Family and Children         110\n",
       "Homicide - Criminal                           47\n",
       "Receiving Stolen Property                     47\n",
       "Gambling Violations                           42\n",
       "Vagrancy/Loitering                            16\n",
       "Homicide - Justifiable                         1\n",
       "Name: crimetype, dtype: int64"
      ]
     },
     "execution_count": 20,
     "metadata": {},
     "output_type": "execute_result"
    }
   ],
   "source": [
    "philly2016_df2['crimetype'].value_counts()"
   ]
  },
  {
   "cell_type": "code",
   "execution_count": 21,
   "metadata": {},
   "outputs": [
    {
     "data": {
      "text/plain": [
       "<AxesSubplot:xlabel='crimetype'>"
      ]
     },
     "execution_count": 21,
     "metadata": {},
     "output_type": "execute_result"
    },
    {
     "data": {
      "image/png": "[encoded data removed]",
      "text/plain": [
       "<Figure size 864x288 with 1 Axes>"
      ]
     },
     "metadata": {
      "needs_background": "light"
     },
     "output_type": "display_data"
    }
   ],
   "source": [
    "philly2016_df2.groupby('crimetype').size().plot(kind='bar', figsize=(12,4))"
   ]
  },
  {
   "cell_type": "code",
   "execution_count": 22,
   "metadata": {},
   "outputs": [
    {
     "data": {
      "text/plain": [
       "crimetype\n",
       "Aggravated Assault Firearm                 13.641232\n",
       "Aggravated Assault No Firearm              13.153328\n",
       "All Other Offenses                         13.240970\n",
       "Arson                                      10.004843\n",
       "Burglary Non-Residential                   10.093324\n",
       "Burglary Residential                       13.158722\n",
       "DRIVING UNDER THE INFLUENCE                10.526885\n",
       "Disorderly Conduct                         14.047438\n",
       "Embezzlement                               13.824324\n",
       "Forgery and Counterfeiting                 14.223214\n",
       "Fraud                                      14.224694\n",
       "Gambling Violations                        15.380952\n",
       "Homicide - Criminal                        14.298246\n",
       "Homicide - Criminal                        13.978723\n",
       "Homicide - Justifiable                     23.000000\n",
       "Liquor Law Violations                      15.439024\n",
       "Motor Vehicle Theft                        12.562581\n",
       "Narcotic / Drug Law Violations             15.770549\n",
       "Offenses Against Family and Children       13.145455\n",
       "Other Assaults                             13.716924\n",
       "Other Sex Offenses (Not Commercialized)    13.801510\n",
       "Prostitution and Commercialized Vice       15.834416\n",
       "Public Drunkenness                         15.456233\n",
       "Rape                                       13.368720\n",
       "Receiving Stolen Property                  13.468085\n",
       "Robbery Firearm                            12.632075\n",
       "Robbery No Firearm                         13.473654\n",
       "Theft from Vehicle                         12.345161\n",
       "Thefts                                     14.143092\n",
       "Vagrancy/Loitering                         12.312500\n",
       "Vandalism/Criminal Mischief                12.783255\n",
       "Weapon Violations                          14.018431\n",
       "Name: hour, dtype: float64"
      ]
     },
     "execution_count": 22,
     "metadata": {},
     "output_type": "execute_result"
    }
   ],
   "source": [
    "philly2016_df2.groupby('crimetype')['hour'].mean()"
   ]
  },
  {
   "cell_type": "code",
   "execution_count": 23,
   "metadata": {},
   "outputs": [
    {
     "data": {
      "text/plain": [
       "(7993, 14)"
      ]
     },
     "execution_count": 23,
     "metadata": {},
     "output_type": "execute_result"
    }
   ],
   "source": [
    "philly2016drug_filter = philly2016_df2['crimetype']=='Narcotic / Drug Law Violations'\n",
    "philly2016drug_df = philly2016_df2[philly2016drug_filter]\n",
    "philly2016drug_df.shape"
   ]
  },
  {
   "cell_type": "code",
   "execution_count": 24,
   "metadata": {},
   "outputs": [
    {
     "data": {
      "text/plain": [
       "<AxesSubplot:xlabel='hour'>"
      ]
     },
     "execution_count": 24,
     "metadata": {},
     "output_type": "execute_result"
    },
    {
     "data": {
      "image/png": "[encoded data removed]",
      "text/plain": [
       "<Figure size 864x288 with 1 Axes>"
      ]
     },
     "metadata": {
      "needs_background": "light"
     },
     "output_type": "display_data"
    }
   ],
   "source": [
    "philly2016drug_df.groupby('hour').size().plot(kind='bar', figsize=(12,4))"
   ]
  },
  {
   "cell_type": "markdown",
   "metadata": {},
   "source": [
    "### 2016 Philly Crime Incidents (Assignment 6 five-step blocks) | #2\n",
    "\n",
    "In this block, I will answer the question: which hour reported the most occurrences of crime incidents (aka which hour is the most \"dangerous\")? \n",
    "\n",
    "STEPS:\n",
    "* Find the most frequent # of crimes reported by a police in a given hour using the data in the `hour` column."
   ]
  },
  {
   "cell_type": "code",
   "execution_count": 25,
   "metadata": {},
   "outputs": [
    {
     "data": {
      "text/plain": [
       "16    10714\n",
       "17    10107\n",
       "12     9263\n",
       "18     9104\n",
       "11     9024\n",
       "19     9006\n",
       "13     8904\n",
       "15     8699\n",
       "20     8570\n",
       "10     8315\n",
       "21     7930\n",
       "14     7445\n",
       "9      7415\n",
       "22     7081\n",
       "23     6661\n",
       "0      6237\n",
       "8      5720\n",
       "1      5083\n",
       "2      3764\n",
       "7      3102\n",
       "3      2771\n",
       "4      1826\n",
       "5      1473\n",
       "6      1391\n",
       "Name: hour, dtype: int64"
      ]
     },
     "execution_count": 25,
     "metadata": {},
     "output_type": "execute_result"
    }
   ],
   "source": [
    "# Find the most frequent # of crimes reported by a police in a given hour using the data in the `hour` column. Name the result `max_hour2016`.\n",
    "philly2016_df2['hour'].value_counts()"
   ]
  },
  {
   "cell_type": "markdown",
   "metadata": {},
   "source": [
    "In narrative form, hour 16 (4:00 PM) and hour 17 (5:00 PM) result in the most crime occurrences. Hour 6 (6:00 AM) has the least crime occurrences (by almost 8 times less).\n",
    "\n",
    "Some observations:\n",
    "* 9:00 AM is just as \"dangerous\" as 2:00 PM and 10:00 PM (morning, afternoon, evening)\n",
    "* At 4:00 PM and 5:00 PM during most parts of the year, there is still considerable light outside. \n",
    "* Putting together what I learned from Block 1's exercise, it seems like narcotic / drug law violations occur on a different timeline than the rest of the crimes and are not representative of when most crimes occur. \n",
    "* Wonder what crimes are common during the peak hours of 4:00 PM? "
   ]
  },
  {
   "cell_type": "markdown",
   "metadata": {},
   "source": [
    "### 2016 Philly Crime Incidents (Assignment 6 five-step blocks) | #3\n",
    "\n",
    "In this block, I will answer the question: at 4:00 PM, which crime is most likely to occur? \n",
    "\n",
    "STEPS:\n",
    "* Create filter for rows where `hour` is 16.\n",
    "* Subset the data frame.\n",
    "* Count the number of occurrences of each crime at 4:00 PM."
   ]
  },
  {
   "cell_type": "code",
   "execution_count": 26,
   "metadata": {},
   "outputs": [
    {
     "data": {
      "text/plain": [
       "Thefts                                     2105\n",
       "Other Assaults                             1857\n",
       "All Other Offenses                         1493\n",
       "Fraud                                      1060\n",
       "Vandalism/Criminal Mischief                 971\n",
       "Theft from Vehicle                          845\n",
       "Burglary Residential                        466\n",
       "Narcotic / Drug Law Violations              429\n",
       "Aggravated Assault No Firearm               318\n",
       "Robbery No Firearm                          221\n",
       "Disorderly Conduct                          120\n",
       "Rape                                        103\n",
       "Motor Vehicle Theft                          97\n",
       "Robbery Firearm                              91\n",
       "Aggravated Assault Firearm                   91\n",
       "Other Sex Offenses (Not Commercialized)      88\n",
       "DRIVING UNDER THE INFLUENCE                  81\n",
       "Weapon Violations                            70\n",
       "Burglary Non-Residential                     60\n",
       "Embezzlement                                 42\n",
       "Public Drunkenness                           32\n",
       "Prostitution and Commercialized Vice         20\n",
       "Forgery and Counterfeiting                   18\n",
       "Arson                                        11\n",
       "Homicide - Criminal                          10\n",
       "Offenses Against Family and Children          7\n",
       "Vagrancy/Loitering                            4\n",
       "Receiving Stolen Property                     2\n",
       "Gambling Violations                           1\n",
       "Liquor Law Violations                         1\n",
       "Name: crimetype, dtype: int64"
      ]
     },
     "execution_count": 26,
     "metadata": {},
     "output_type": "execute_result"
    }
   ],
   "source": [
    "# Create filter for rows where `hour` is 16.\n",
    "hour16_filter=philly2016_df2['hour']==16\n",
    "\n",
    "# Subset the data frame.\n",
    "philly2016_hour16_df=philly2016_df2[(hour16_filter)]\n",
    "\n",
    "# Count the number of occurrences of each crime at 4:00 PM.\n",
    "philly2016_hour16_df['crimetype'].value_counts()"
   ]
  },
  {
   "cell_type": "markdown",
   "metadata": {},
   "source": [
    "In narrative form, at 4:00 PM, the most common crime that occurs is Theft, followed by \"Other Assaults\" and \"All Other Offenses\". Since the latter two categories are more ambiguous, a more insightful runner up would be Fraud. At this hour, the least common case relate to Liquor Law Violations. \n",
    "\n",
    "Some observations:\n",
    "* Top most common crimes that occur at this hour involve some form of stealing or unlawful \"financial\" gain, rather than influential 3rd party sources (i.e. alcohol, drugs).\n",
    "* What do \"Other Assaults\" and \"All Other Offenses\" entail? \n",
    "* Where do these thefts occur? <-- Not sure if this can be answered with the limitations of the data set."
   ]
  },
  {
   "cell_type": "markdown",
   "metadata": {},
   "source": [
    "### Types of Complaints Against Police (initial data exploration)\n",
    "\n",
    "* There are also 2017, 2018, 2019, and 2020 crime incident data sets! Before I analyze the remaining data, I will shift gears and begin to explore another topic of datasets to draw some preliminary patterns!"
   ]
  },
  {
   "cell_type": "code",
   "execution_count": 27,
   "metadata": {},
   "outputs": [],
   "source": [
    "complaints_df=pd.read_csv('../data/complaints.csv')"
   ]
  },
  {
   "cell_type": "code",
   "execution_count": 28,
   "metadata": {},
   "outputs": [
    {
     "data": {
      "text/plain": [
       "(3374, 5)"
      ]
     },
     "execution_count": 28,
     "metadata": {},
     "output_type": "execute_result"
    }
   ],
   "source": [
    "complaints_df.shape"
   ]
  },
  {
   "cell_type": "code",
   "execution_count": 29,
   "metadata": {},
   "outputs": [
    {
     "data": {
      "text/plain": [
       "Index(['complaint_id', 'date_received', 'district_occurrence',\n",
       "       'general_cap_classification', 'summary'],\n",
       "      dtype='object')"
      ]
     },
     "execution_count": 29,
     "metadata": {},
     "output_type": "execute_result"
    }
   ],
   "source": [
    "complaints_df.columns"
   ]
  },
  {
   "cell_type": "code",
   "execution_count": 30,
   "metadata": {},
   "outputs": [
    {
     "data": {
      "text/html": [
       "<div>\n",
       "<style scoped>\n",
       "    .dataframe tbody tr th:only-of-type {\n",
       "        vertical-align: middle;\n",
       "    }\n",
       "\n",
       "    .dataframe tbody tr th {\n",
       "        vertical-align: top;\n",
       "    }\n",
       "\n",
       "    .dataframe thead th {\n",
       "        text-align: right;\n",
       "    }\n",
       "</style>\n",
       "<table border=\"1\" class=\"dataframe\">\n",
       "  <thead>\n",
       "    <tr style=\"text-align: right;\">\n",
       "      <th></th>\n",
       "      <th>complaint_id</th>\n",
       "      <th>date_received</th>\n",
       "      <th>district_occurrence</th>\n",
       "      <th>general_cap_classification</th>\n",
       "      <th>summary</th>\n",
       "    </tr>\n",
       "  </thead>\n",
       "  <tbody>\n",
       "    <tr>\n",
       "      <th>0</th>\n",
       "      <td>15-0517</td>\n",
       "      <td>2015-09-02</td>\n",
       "      <td>900</td>\n",
       "      <td>DEPARTMENTAL VIOLATIONS</td>\n",
       "      <td>According to the complainant, on 7-5-15 at 4:0...</td>\n",
       "    </tr>\n",
       "    <tr>\n",
       "      <th>1</th>\n",
       "      <td>15-0518</td>\n",
       "      <td>2015-09-02</td>\n",
       "      <td>300</td>\n",
       "      <td>DEPARTMENTAL VIOLATIONS</td>\n",
       "      <td>According to the complainant, on 6-12-15 at 11...</td>\n",
       "    </tr>\n",
       "    <tr>\n",
       "      <th>2</th>\n",
       "      <td>15-0519</td>\n",
       "      <td>2015-09-02</td>\n",
       "      <td>2600</td>\n",
       "      <td>VERBAL ABUSE</td>\n",
       "      <td>According to the complainant, on 8-16-15 at 4:...</td>\n",
       "    </tr>\n",
       "    <tr>\n",
       "      <th>3</th>\n",
       "      <td>15-0520</td>\n",
       "      <td>2015-09-03</td>\n",
       "      <td>600</td>\n",
       "      <td>CIVIL RIGHTS COMPLAINT</td>\n",
       "      <td>According to the complainant, on 08-28-15 at 1...</td>\n",
       "    </tr>\n",
       "    <tr>\n",
       "      <th>4</th>\n",
       "      <td>15-0521</td>\n",
       "      <td>2015-09-03</td>\n",
       "      <td>3500</td>\n",
       "      <td>DEPARTMENTAL VIOLATIONS</td>\n",
       "      <td>According to the complainant, on 8-28-15 at 10...</td>\n",
       "    </tr>\n",
       "  </tbody>\n",
       "</table>\n",
       "</div>"
      ],
      "text/plain": [
       "  complaint_id date_received district_occurrence general_cap_classification  \\\n",
       "0      15-0517    2015-09-02                 900    DEPARTMENTAL VIOLATIONS   \n",
       "1      15-0518    2015-09-02                 300    DEPARTMENTAL VIOLATIONS   \n",
       "2      15-0519    2015-09-02                2600               VERBAL ABUSE   \n",
       "3      15-0520    2015-09-03                 600     CIVIL RIGHTS COMPLAINT   \n",
       "4      15-0521    2015-09-03                3500    DEPARTMENTAL VIOLATIONS   \n",
       "\n",
       "                                             summary  \n",
       "0  According to the complainant, on 7-5-15 at 4:0...  \n",
       "1  According to the complainant, on 6-12-15 at 11...  \n",
       "2  According to the complainant, on 8-16-15 at 4:...  \n",
       "3  According to the complainant, on 08-28-15 at 1...  \n",
       "4  According to the complainant, on 8-28-15 at 10...  "
      ]
     },
     "execution_count": 30,
     "metadata": {},
     "output_type": "execute_result"
    }
   ],
   "source": [
    "complaints_df.head()"
   ]
  },
  {
   "cell_type": "code",
   "execution_count": 31,
   "metadata": {
    "scrolled": true
   },
   "outputs": [
    {
     "data": {
      "text/html": [
       "<div>\n",
       "<style scoped>\n",
       "    .dataframe tbody tr th:only-of-type {\n",
       "        vertical-align: middle;\n",
       "    }\n",
       "\n",
       "    .dataframe tbody tr th {\n",
       "        vertical-align: top;\n",
       "    }\n",
       "\n",
       "    .dataframe thead th {\n",
       "        text-align: right;\n",
       "    }\n",
       "</style>\n",
       "<table border=\"1\" class=\"dataframe\">\n",
       "  <thead>\n",
       "    <tr style=\"text-align: right;\">\n",
       "      <th></th>\n",
       "      <th>complaint_id</th>\n",
       "      <th>date_received</th>\n",
       "      <th>district_occurrence</th>\n",
       "      <th>general_cap_classification</th>\n",
       "      <th>summary</th>\n",
       "    </tr>\n",
       "  </thead>\n",
       "  <tbody>\n",
       "    <tr>\n",
       "      <th>3369</th>\n",
       "      <td>20-0453</td>\n",
       "      <td>2020-08-25</td>\n",
       "      <td>1400</td>\n",
       "      <td>UNPROFESSIONAL CONDUCT</td>\n",
       "      <td>According to the complainant, since May of 202...</td>\n",
       "    </tr>\n",
       "    <tr>\n",
       "      <th>3370</th>\n",
       "      <td>20-0454</td>\n",
       "      <td>2020-08-28</td>\n",
       "      <td>900</td>\n",
       "      <td>LACK OF SERVICE</td>\n",
       "      <td>According to the complainant, on 8-26-20 at 5:...</td>\n",
       "    </tr>\n",
       "    <tr>\n",
       "      <th>3371</th>\n",
       "      <td>20-0455</td>\n",
       "      <td>2020-08-28</td>\n",
       "      <td>3900</td>\n",
       "      <td>DEPARTMENTAL VIOLATIONS</td>\n",
       "      <td>According to the complainant, on 8-18-20 at 10...</td>\n",
       "    </tr>\n",
       "    <tr>\n",
       "      <th>3372</th>\n",
       "      <td>20-0456</td>\n",
       "      <td>2020-08-31</td>\n",
       "      <td>800</td>\n",
       "      <td>DEPARTMENTAL VIOLATIONS</td>\n",
       "      <td>According to the complainant, on 8-27-20 at 6:...</td>\n",
       "    </tr>\n",
       "    <tr>\n",
       "      <th>3373</th>\n",
       "      <td>20-0457</td>\n",
       "      <td>2020-08-28</td>\n",
       "      <td>1900</td>\n",
       "      <td>PHYSICAL ABUSE</td>\n",
       "      <td>According to the complainant, on 2-18-20, they...</td>\n",
       "    </tr>\n",
       "  </tbody>\n",
       "</table>\n",
       "</div>"
      ],
      "text/plain": [
       "     complaint_id date_received district_occurrence  \\\n",
       "3369      20-0453    2020-08-25                1400   \n",
       "3370      20-0454    2020-08-28                 900   \n",
       "3371      20-0455    2020-08-28                3900   \n",
       "3372      20-0456    2020-08-31                 800   \n",
       "3373      20-0457    2020-08-28                1900   \n",
       "\n",
       "     general_cap_classification  \\\n",
       "3369     UNPROFESSIONAL CONDUCT   \n",
       "3370            LACK OF SERVICE   \n",
       "3371    DEPARTMENTAL VIOLATIONS   \n",
       "3372    DEPARTMENTAL VIOLATIONS   \n",
       "3373             PHYSICAL ABUSE   \n",
       "\n",
       "                                                summary  \n",
       "3369  According to the complainant, since May of 202...  \n",
       "3370  According to the complainant, on 8-26-20 at 5:...  \n",
       "3371  According to the complainant, on 8-18-20 at 10...  \n",
       "3372  According to the complainant, on 8-27-20 at 6:...  \n",
       "3373  According to the complainant, on 2-18-20, they...  "
      ]
     },
     "execution_count": 31,
     "metadata": {},
     "output_type": "execute_result"
    }
   ],
   "source": [
    "complaints_df.tail()"
   ]
  },
  {
   "cell_type": "markdown",
   "metadata": {},
   "source": [
    "### Observations\n",
    "\n",
    "* each row is a reported complaint incident\n",
    "* columns:\n",
    "    * `complaint_id` - unique identification number for each complaint (QUANTITATIVE)\n",
    "    * `date_received` - date in which the complaint was received (QUANTITATIVE)\n",
    "    * `district_occurrence` - numerical identification district number (QUANTITATIVE)\n",
    "    * `general_cap_classification` - type of complaint (QUALITATIVE)\n",
    "    * `summary` - more information about the complaint (QUALITATIVE)"
   ]
  },
  {
   "cell_type": "code",
   "execution_count": 32,
   "metadata": {},
   "outputs": [
    {
     "name": "stdout",
     "output_type": "stream",
     "text": [
      "           id        date district                      type  \\\n",
      "0     15-0517  2015-09-02      900   DEPARTMENTAL VIOLATIONS   \n",
      "1     15-0518  2015-09-02      300   DEPARTMENTAL VIOLATIONS   \n",
      "2     15-0519  2015-09-02     2600              VERBAL ABUSE   \n",
      "3     15-0520  2015-09-03      600    CIVIL RIGHTS COMPLAINT   \n",
      "4     15-0521  2015-09-03     3500   DEPARTMENTAL VIOLATIONS   \n",
      "...       ...         ...      ...                       ...   \n",
      "3369  20-0453  2020-08-25     1400    UNPROFESSIONAL CONDUCT   \n",
      "3370  20-0454  2020-08-28      900           LACK OF SERVICE   \n",
      "3371  20-0455  2020-08-28     3900   DEPARTMENTAL VIOLATIONS   \n",
      "3372  20-0456  2020-08-31      800   DEPARTMENTAL VIOLATIONS   \n",
      "3373  20-0457  2020-08-28     1900            PHYSICAL ABUSE   \n",
      "\n",
      "                                                summary  \n",
      "0     According to the complainant, on 7-5-15 at 4:0...  \n",
      "1     According to the complainant, on 6-12-15 at 11...  \n",
      "2     According to the complainant, on 8-16-15 at 4:...  \n",
      "3     According to the complainant, on 08-28-15 at 1...  \n",
      "4     According to the complainant, on 8-28-15 at 10...  \n",
      "...                                                 ...  \n",
      "3369  According to the complainant, since May of 202...  \n",
      "3370  According to the complainant, on 8-26-20 at 5:...  \n",
      "3371  According to the complainant, on 8-18-20 at 10...  \n",
      "3372  According to the complainant, on 8-27-20 at 6:...  \n",
      "3373  According to the complainant, on 2-18-20, they...  \n",
      "\n",
      "[3374 rows x 5 columns]\n"
     ]
    }
   ],
   "source": [
    "cols_to_use = ['complaint_id', 'date_received', 'district_occurrence', 'general_cap_classification', 'summary']\n",
    "complaints_df2 = complaints_df[cols_to_use]\n",
    "complaints_df2 = complaints_df2.rename(columns={\n",
    "    'complaint_id':'id',\n",
    "    'date_received':'date',\n",
    "    'district_occurrence':'district',\n",
    "    'general_cap_classification':'type',\n",
    "    'summary':'summary'})\n",
    "print(complaints_df2)"
   ]
  },
  {
   "cell_type": "code",
   "execution_count": 33,
   "metadata": {},
   "outputs": [
    {
     "data": {
      "text/plain": [
       "array([' DEPARTMENTAL VIOLATIONS', ' VERBAL ABUSE',\n",
       "       ' CIVIL RIGHTS COMPLAINT', ' CRIMINAL ALLEGATION', ' DOMESTIC',\n",
       "       ' PHYSICAL ABUSE', ' LACK OF SERVICE', ' HARASSMENT',\n",
       "       ' FALSIFICATION', ' NON-INVESTIGATORY INCIDENT',\n",
       "       ' UNPROFESSIONAL CONDUCT', ' SEXUAL CRIME/MISCONDUCT', ' DRUGS',\n",
       "       'USE OF FORCE INTERNAL'], dtype=object)"
      ]
     },
     "execution_count": 33,
     "metadata": {},
     "output_type": "execute_result"
    }
   ],
   "source": [
    "complaints_df2['type'].unique()"
   ]
  },
  {
   "cell_type": "code",
   "execution_count": 34,
   "metadata": {},
   "outputs": [
    {
     "data": {
      "text/plain": [
       " DEPARTMENTAL VIOLATIONS       903\n",
       " LACK OF SERVICE               725\n",
       " PHYSICAL ABUSE                546\n",
       " VERBAL ABUSE                  339\n",
       " UNPROFESSIONAL CONDUCT        228\n",
       " NON-INVESTIGATORY INCIDENT    158\n",
       " HARASSMENT                    157\n",
       " CRIMINAL ALLEGATION           145\n",
       " CIVIL RIGHTS COMPLAINT         99\n",
       " DOMESTIC                       43\n",
       " SEXUAL CRIME/MISCONDUCT        13\n",
       " FALSIFICATION                  13\n",
       " DRUGS                           4\n",
       "USE OF FORCE INTERNAL            1\n",
       "Name: type, dtype: int64"
      ]
     },
     "execution_count": 34,
     "metadata": {},
     "output_type": "execute_result"
    }
   ],
   "source": [
    "complaints_df2['type'].value_counts()"
   ]
  },
  {
   "cell_type": "code",
   "execution_count": 35,
   "metadata": {},
   "outputs": [
    {
     "data": {
      "text/plain": [
       "1500                  257\n",
       "3500                  249\n",
       "2500                  239\n",
       "1900                  234\n",
       "1800                  220\n",
       "1400                  218\n",
       "2200                  189\n",
       "600                   187\n",
       "2400                  165\n",
       "1200                  159\n",
       "900                   156\n",
       "200                   149\n",
       "3900                  145\n",
       "800                   133\n",
       "1600                  120\n",
       "300                   109\n",
       "700                    77\n",
       "1700                   75\n",
       "100                    71\n",
       "2600                   59\n",
       "500                    39\n",
       "7700                   22\n",
       "Other Jurisdiction      7\n",
       "400                     6\n",
       "2300                    3\n",
       "9                       1\n",
       "Name: district, dtype: int64"
      ]
     },
     "execution_count": 35,
     "metadata": {},
     "output_type": "execute_result"
    }
   ],
   "source": [
    "complaints_df2['district'].value_counts()"
   ]
  },
  {
   "cell_type": "code",
   "execution_count": 36,
   "metadata": {},
   "outputs": [
    {
     "data": {
      "text/plain": [
       "2015-12-31    31\n",
       "2016-12-31    17\n",
       "2016-12-19    15\n",
       "2016-08-03    14\n",
       "2016-06-15    13\n",
       "              ..\n",
       "2017-09-11     1\n",
       "2019-04-18     1\n",
       "2016-05-27     1\n",
       "2018-08-21     1\n",
       "2016-04-29     1\n",
       "Name: date, Length: 985, dtype: int64"
      ]
     },
     "execution_count": 36,
     "metadata": {},
     "output_type": "execute_result"
    }
   ],
   "source": [
    "complaints_df2['date'].value_counts()"
   ]
  },
  {
   "cell_type": "markdown",
   "metadata": {},
   "source": [
    "### Types of Complaints Against Police (Assignment 6 five-step blocks) | #4\n",
    "\n",
    "In this block, I will answer the question(s): within District 1500, what is the most common complaint issued, and on December 31, 2015, what was the most common complaint issued?\n",
    "\n",
    "STEPS (FOR DISTRICT  1500):\n",
    "* Create filter for rows where `district` is 1500.\n",
    "* Subset the data frame.\n",
    "* Count the number of occurrences of each complaint.\n",
    "\n",
    "STEPS (FOR DECEMBER 31, 2015):\n",
    "* Create filter for rows where `date` is 2015-12-31.\n",
    "* Subset the data frame.\n",
    "* Count the number of occurrences of each complaint."
   ]
  },
  {
   "cell_type": "code",
   "execution_count": 37,
   "metadata": {},
   "outputs": [
    {
     "data": {
      "text/plain": [
       " LACK OF SERVICE               69\n",
       " DEPARTMENTAL VIOLATIONS       60\n",
       " PHYSICAL ABUSE                36\n",
       " VERBAL ABUSE                  26\n",
       " HARASSMENT                    23\n",
       " UNPROFESSIONAL CONDUCT        16\n",
       " NON-INVESTIGATORY INCIDENT     9\n",
       " CRIMINAL ALLEGATION            7\n",
       " CIVIL RIGHTS COMPLAINT         7\n",
       " DOMESTIC                       3\n",
       " SEXUAL CRIME/MISCONDUCT        1\n",
       "Name: type, dtype: int64"
      ]
     },
     "execution_count": 37,
     "metadata": {},
     "output_type": "execute_result"
    }
   ],
   "source": [
    "# FOR DISTRICT 1500: \n",
    "# Create filter for rows where `district` is 1500.\n",
    "district_filter=complaints_df2['district']=='1500'\n",
    "\n",
    "# Subset the data frame.\n",
    "complaints_district1500_df=complaints_df2[(district_filter)]\n",
    "\n",
    "# Count the number of occurrences of each complaint.\n",
    "complaints_district1500_df['type'].value_counts()"
   ]
  },
  {
   "cell_type": "code",
   "execution_count": 38,
   "metadata": {},
   "outputs": [
    {
     "data": {
      "text/plain": [
       " LACK OF SERVICE               13\n",
       " DEPARTMENTAL VIOLATIONS        7\n",
       " NON-INVESTIGATORY INCIDENT     5\n",
       " VERBAL ABUSE                   3\n",
       " PHYSICAL ABUSE                 2\n",
       " CRIMINAL ALLEGATION            1\n",
       "Name: type, dtype: int64"
      ]
     },
     "execution_count": 38,
     "metadata": {},
     "output_type": "execute_result"
    }
   ],
   "source": [
    "# FOR DECEMBER 31, 2015: \n",
    "# Create filter for rows where `date` is 2015-12-31.\n",
    "date_filter=complaints_df2['date']=='2015-12-31'\n",
    "\n",
    "# Subset the data frame.\n",
    "complaints_date_df=complaints_df2[(date_filter)]\n",
    "\n",
    "# Count the number of occurrences of each complaint.\n",
    "complaints_date_df['type'].value_counts()"
   ]
  },
  {
   "cell_type": "markdown",
   "metadata": {},
   "source": [
    "In narrative form, the most common complaint that was issued in district 1500 and on December 31, 2015 was Lack of Service. Criminal allegation remained low for both factors.\n",
    "\n",
    "Some observations:\n",
    "* Despite Departmental Violations being the most common complaint overall, I was surprised to see that Lack of Service was the most common when filtering by district and by date. \n",
    "* In which district does Lack of Service occur most? This may say something about how that particular district is run."
   ]
  },
  {
   "cell_type": "markdown",
   "metadata": {},
   "source": [
    "### Demographics of Police (initial data exploration)"
   ]
  },
  {
   "cell_type": "code",
   "execution_count": 39,
   "metadata": {},
   "outputs": [],
   "source": [
    "police_df=pd.read_csv('../data/police.csv')"
   ]
  },
  {
   "cell_type": "code",
   "execution_count": 40,
   "metadata": {},
   "outputs": [
    {
     "data": {
      "text/plain": [
       "(8397, 8)"
      ]
     },
     "execution_count": 40,
     "metadata": {},
     "output_type": "execute_result"
    }
   ],
   "source": [
    "police_df.shape"
   ]
  },
  {
   "cell_type": "code",
   "execution_count": 41,
   "metadata": {},
   "outputs": [
    {
     "data": {
      "text/plain": [
       "Index(['complaint_id', 'officer_id', 'po_race', 'po_sex', 'po_assigned_unit',\n",
       "       'allegations_investigated', 'investigative_findings',\n",
       "       'disciplinary_findings'],\n",
       "      dtype='object')"
      ]
     },
     "execution_count": 41,
     "metadata": {},
     "output_type": "execute_result"
    }
   ],
   "source": [
    "police_df.columns"
   ]
  },
  {
   "cell_type": "code",
   "execution_count": 42,
   "metadata": {},
   "outputs": [
    {
     "data": {
      "text/html": [
       "<div>\n",
       "<style scoped>\n",
       "    .dataframe tbody tr th:only-of-type {\n",
       "        vertical-align: middle;\n",
       "    }\n",
       "\n",
       "    .dataframe tbody tr th {\n",
       "        vertical-align: top;\n",
       "    }\n",
       "\n",
       "    .dataframe thead th {\n",
       "        text-align: right;\n",
       "    }\n",
       "</style>\n",
       "<table border=\"1\" class=\"dataframe\">\n",
       "  <thead>\n",
       "    <tr style=\"text-align: right;\">\n",
       "      <th></th>\n",
       "      <th>complaint_id</th>\n",
       "      <th>officer_id</th>\n",
       "      <th>po_race</th>\n",
       "      <th>po_sex</th>\n",
       "      <th>po_assigned_unit</th>\n",
       "      <th>allegations_investigated</th>\n",
       "      <th>investigative_findings</th>\n",
       "      <th>disciplinary_findings</th>\n",
       "    </tr>\n",
       "  </thead>\n",
       "  <tbody>\n",
       "    <tr>\n",
       "      <th>0</th>\n",
       "      <td>15-0517</td>\n",
       "      <td>52344629.0</td>\n",
       "      <td>black</td>\n",
       "      <td>male</td>\n",
       "      <td>4500 CENTER CITY DISTRIC</td>\n",
       "      <td>Departmental Violation</td>\n",
       "      <td>Sustained Finding</td>\n",
       "      <td>Training/Counseling</td>\n",
       "    </tr>\n",
       "    <tr>\n",
       "      <th>1</th>\n",
       "      <td>15-0517</td>\n",
       "      <td>52344629.0</td>\n",
       "      <td>black</td>\n",
       "      <td>male</td>\n",
       "      <td>4500 CENTER CITY DISTRIC</td>\n",
       "      <td>Departmental Violation</td>\n",
       "      <td>No Sustained Findings</td>\n",
       "      <td>Not Applicable</td>\n",
       "    </tr>\n",
       "    <tr>\n",
       "      <th>2</th>\n",
       "      <td>15-0518</td>\n",
       "      <td>21536218.0</td>\n",
       "      <td>black</td>\n",
       "      <td>male</td>\n",
       "      <td>0300 03RD DISTRICT</td>\n",
       "      <td>Departmental Violation</td>\n",
       "      <td>No Sustained Findings</td>\n",
       "      <td>Not Applicable</td>\n",
       "    </tr>\n",
       "    <tr>\n",
       "      <th>3</th>\n",
       "      <td>15-0519</td>\n",
       "      <td>63360139.0</td>\n",
       "      <td>white</td>\n",
       "      <td>male</td>\n",
       "      <td>2600 26TH DISTRICT</td>\n",
       "      <td>Verbal Abuse</td>\n",
       "      <td>No Sustained Findings</td>\n",
       "      <td>Not Applicable</td>\n",
       "    </tr>\n",
       "    <tr>\n",
       "      <th>4</th>\n",
       "      <td>15-0519</td>\n",
       "      <td>63360139.0</td>\n",
       "      <td>white</td>\n",
       "      <td>male</td>\n",
       "      <td>2600 26TH DISTRICT</td>\n",
       "      <td>Departmental Violation</td>\n",
       "      <td>Sustained Finding</td>\n",
       "      <td>Training/Counseling</td>\n",
       "    </tr>\n",
       "  </tbody>\n",
       "</table>\n",
       "</div>"
      ],
      "text/plain": [
       "  complaint_id  officer_id po_race po_sex          po_assigned_unit  \\\n",
       "0      15-0517  52344629.0   black   male  4500 CENTER CITY DISTRIC   \n",
       "1      15-0517  52344629.0   black   male  4500 CENTER CITY DISTRIC   \n",
       "2      15-0518  21536218.0   black   male        0300 03RD DISTRICT   \n",
       "3      15-0519  63360139.0   white   male        2600 26TH DISTRICT   \n",
       "4      15-0519  63360139.0   white   male        2600 26TH DISTRICT   \n",
       "\n",
       "  allegations_investigated investigative_findings disciplinary_findings  \n",
       "0   Departmental Violation      Sustained Finding   Training/Counseling  \n",
       "1   Departmental Violation  No Sustained Findings        Not Applicable  \n",
       "2   Departmental Violation  No Sustained Findings        Not Applicable  \n",
       "3             Verbal Abuse  No Sustained Findings        Not Applicable  \n",
       "4   Departmental Violation      Sustained Finding   Training/Counseling  "
      ]
     },
     "execution_count": 42,
     "metadata": {},
     "output_type": "execute_result"
    }
   ],
   "source": [
    "police_df.head()"
   ]
  },
  {
   "cell_type": "code",
   "execution_count": 43,
   "metadata": {},
   "outputs": [
    {
     "data": {
      "text/html": [
       "<div>\n",
       "<style scoped>\n",
       "    .dataframe tbody tr th:only-of-type {\n",
       "        vertical-align: middle;\n",
       "    }\n",
       "\n",
       "    .dataframe tbody tr th {\n",
       "        vertical-align: top;\n",
       "    }\n",
       "\n",
       "    .dataframe thead th {\n",
       "        text-align: right;\n",
       "    }\n",
       "</style>\n",
       "<table border=\"1\" class=\"dataframe\">\n",
       "  <thead>\n",
       "    <tr style=\"text-align: right;\">\n",
       "      <th></th>\n",
       "      <th>complaint_id</th>\n",
       "      <th>officer_id</th>\n",
       "      <th>po_race</th>\n",
       "      <th>po_sex</th>\n",
       "      <th>po_assigned_unit</th>\n",
       "      <th>allegations_investigated</th>\n",
       "      <th>investigative_findings</th>\n",
       "      <th>disciplinary_findings</th>\n",
       "    </tr>\n",
       "  </thead>\n",
       "  <tbody>\n",
       "    <tr>\n",
       "      <th>8392</th>\n",
       "      <td>20-0456</td>\n",
       "      <td>42523881.0</td>\n",
       "      <td>white</td>\n",
       "      <td>male</td>\n",
       "      <td>0700 07TH DISTRICT</td>\n",
       "      <td>Investigation OnGoing</td>\n",
       "      <td>Pending</td>\n",
       "      <td>Pending</td>\n",
       "    </tr>\n",
       "    <tr>\n",
       "      <th>8393</th>\n",
       "      <td>20-0456</td>\n",
       "      <td>94396173.0</td>\n",
       "      <td>white</td>\n",
       "      <td>male</td>\n",
       "      <td>0700 07TH DISTRICT</td>\n",
       "      <td>Investigation OnGoing</td>\n",
       "      <td>Pending</td>\n",
       "      <td>Pending</td>\n",
       "    </tr>\n",
       "    <tr>\n",
       "      <th>8394</th>\n",
       "      <td>20-0457</td>\n",
       "      <td>63150712.0</td>\n",
       "      <td>black</td>\n",
       "      <td>male</td>\n",
       "      <td>1900 19TH DISTRICT</td>\n",
       "      <td>Investigation OnGoing</td>\n",
       "      <td>Pending</td>\n",
       "      <td>Pending</td>\n",
       "    </tr>\n",
       "    <tr>\n",
       "      <th>8395</th>\n",
       "      <td>20-0457</td>\n",
       "      <td>25528375.0</td>\n",
       "      <td>white</td>\n",
       "      <td>male</td>\n",
       "      <td>1900 19TH DISTRICT</td>\n",
       "      <td>Investigation OnGoing</td>\n",
       "      <td>Pending</td>\n",
       "      <td>Pending</td>\n",
       "    </tr>\n",
       "    <tr>\n",
       "      <th>8396</th>\n",
       "      <td>8396</td>\n",
       "      <td>NaN</td>\n",
       "      <td>NaN</td>\n",
       "      <td>NaN</td>\n",
       "      <td>NaN</td>\n",
       "      <td>NaN</td>\n",
       "      <td>NaN</td>\n",
       "      <td>NaN</td>\n",
       "    </tr>\n",
       "  </tbody>\n",
       "</table>\n",
       "</div>"
      ],
      "text/plain": [
       "     complaint_id  officer_id po_race po_sex    po_assigned_unit  \\\n",
       "8392      20-0456  42523881.0   white   male  0700 07TH DISTRICT   \n",
       "8393      20-0456  94396173.0   white   male  0700 07TH DISTRICT   \n",
       "8394      20-0457  63150712.0   black   male  1900 19TH DISTRICT   \n",
       "8395      20-0457  25528375.0   white   male  1900 19TH DISTRICT   \n",
       "8396         8396         NaN     NaN    NaN                 NaN   \n",
       "\n",
       "     allegations_investigated investigative_findings disciplinary_findings  \n",
       "8392    Investigation OnGoing                Pending               Pending  \n",
       "8393    Investigation OnGoing                Pending               Pending  \n",
       "8394    Investigation OnGoing                Pending               Pending  \n",
       "8395    Investigation OnGoing                Pending               Pending  \n",
       "8396                      NaN                    NaN                   NaN  "
      ]
     },
     "execution_count": 43,
     "metadata": {},
     "output_type": "execute_result"
    }
   ],
   "source": [
    "police_df.tail()"
   ]
  },
  {
   "cell_type": "markdown",
   "metadata": {},
   "source": [
    "### Observations\n",
    "\n",
    "* each row is information about the police officer in question with each corresponding complaint\n",
    "* columns:\n",
    "    * `complaint_id` - unique identification number for each complaint (QUANTITATIVE)\n",
    "    * `officer_id` - unique identification number for each officer (QUANTITATIVE)\n",
    "    * `po_race` - race of police officer (QUALITATIVE)\n",
    "    * `po_sex` - sex of police officer (QUALITATIVE)\n",
    "    * `po_assigned_unit` - district in which police officer is assigned to (QUALITATIVE)\n",
    "    * `allegations_investigated` - status of investigation (QUALITATIVE)\n",
    "    * `investigative_findings` - status of investigation (QUALITATIVE)\n",
    "    * `disciplinary_findings` - status of investigation (QUALITATIVE)"
   ]
  },
  {
   "cell_type": "code",
   "execution_count": 44,
   "metadata": {},
   "outputs": [
    {
     "data": {
      "text/plain": [
       "male      0.84878\n",
       "female    0.15122\n",
       "Name: po_sex, dtype: float64"
      ]
     },
     "execution_count": 44,
     "metadata": {},
     "output_type": "execute_result"
    }
   ],
   "source": [
    "police_df['po_sex'].value_counts(normalize=True)"
   ]
  },
  {
   "cell_type": "markdown",
   "metadata": {},
   "source": [
    "### Demographics of Police (Assignment 6 five-step blocks) | #5\n",
    "\n",
    "In this block, I will answer the question: how does race impact what complaints police receive? \n",
    "\n",
    "STEPS:\n",
    "* Create filters for each gender.\n",
    "* Create filters for studied races (black & white).\n",
    "* Create subsets `whitemale_df`, `whitefemale_df`, `blackmale_df`, `blackfemale_df`.\n",
    "* Graph results!"
   ]
  },
  {
   "cell_type": "code",
   "execution_count": 45,
   "metadata": {},
   "outputs": [],
   "source": [
    "# Create filters for each gender.\n",
    "male_filter=police_df['po_sex']=='male'\n",
    "phillymale_df=police_df[male_filter]"
   ]
  },
  {
   "cell_type": "code",
   "execution_count": 46,
   "metadata": {},
   "outputs": [
    {
     "data": {
      "text/plain": [
       "white     0.624460\n",
       "black     0.254879\n",
       "latino    0.090868\n",
       "asian     0.022643\n",
       "other     0.007150\n",
       "Name: po_race, dtype: float64"
      ]
     },
     "execution_count": 46,
     "metadata": {},
     "output_type": "execute_result"
    }
   ],
   "source": [
    "phillymale_df['po_race'].value_counts(normalize=True)"
   ]
  },
  {
   "cell_type": "code",
   "execution_count": 47,
   "metadata": {
    "scrolled": true
   },
   "outputs": [
    {
     "data": {
      "text/plain": [
       "<AxesSubplot:xlabel='po_race'>"
      ]
     },
     "execution_count": 47,
     "metadata": {},
     "output_type": "execute_result"
    },
    {
     "data": {
      "image/png": "[encoded data removed]",
      "text/plain": [
       "<Figure size 432x288 with 1 Axes>"
      ]
     },
     "metadata": {
      "needs_background": "light"
     },
     "output_type": "display_data"
    }
   ],
   "source": [
    "phillymale_df.groupby('po_race').size().plot(kind='bar')"
   ]
  },
  {
   "cell_type": "code",
   "execution_count": 48,
   "metadata": {},
   "outputs": [
    {
     "data": {
      "text/plain": [
       "Departmental Violation                           0.372412\n",
       "Lack of Service                                  0.165947\n",
       "Physical Abuse                                   0.112915\n",
       "Verbal Abuse                                     0.105318\n",
       "Investigation OnGoing                            0.071056\n",
       "Unprofessional Conduct                           0.059288\n",
       "Civil Rights Complaint                           0.024430\n",
       "Harassment                                       0.023387\n",
       "Criminal Allegation                              0.023387\n",
       "No C.A.P. Investigation                          0.022494\n",
       "Referred to Other Agency/C.A.P. Investigation    0.007448\n",
       "Domestic                                         0.003277\n",
       "Sexual Crime/Misconduct                          0.002532\n",
       "Falsification                                    0.002086\n",
       "Other Misconduct                                 0.001937\n",
       "Disciplinary Code Violation                      0.001341\n",
       "Drugs                                            0.000596\n",
       "#VALUE!                                          0.000149\n",
       "Name: allegations_investigated, dtype: float64"
      ]
     },
     "execution_count": 48,
     "metadata": {},
     "output_type": "execute_result"
    }
   ],
   "source": [
    "phillymale_df['allegations_investigated'].value_counts(normalize=True)"
   ]
  },
  {
   "cell_type": "code",
   "execution_count": 49,
   "metadata": {
    "scrolled": false
   },
   "outputs": [
    {
     "data": {
      "text/plain": [
       "<AxesSubplot:xlabel='allegations_investigated'>"
      ]
     },
     "execution_count": 49,
     "metadata": {},
     "output_type": "execute_result"
    },
    {
     "data": {
      "image/png": "[encoded data removed]",
      "text/plain": [
       "<Figure size 432x288 with 1 Axes>"
      ]
     },
     "metadata": {
      "needs_background": "light"
     },
     "output_type": "display_data"
    }
   ],
   "source": [
    "phillymale_df.groupby('allegations_investigated').size().plot(kind='bar')"
   ]
  },
  {
   "cell_type": "code",
   "execution_count": 50,
   "metadata": {},
   "outputs": [],
   "source": [
    "# Create filters for each gender.\n",
    "female_filter=police_df['po_sex']=='female'\n",
    "phillyfemale_df=police_df[female_filter]"
   ]
  },
  {
   "cell_type": "code",
   "execution_count": 51,
   "metadata": {},
   "outputs": [
    {
     "data": {
      "text/plain": [
       "black     0.509197\n",
       "white     0.340301\n",
       "latino    0.112040\n",
       "other     0.018395\n",
       "asian     0.016722\n",
       "indian    0.003344\n",
       "Name: po_race, dtype: float64"
      ]
     },
     "execution_count": 51,
     "metadata": {},
     "output_type": "execute_result"
    }
   ],
   "source": [
    "phillyfemale_df['po_race'].value_counts(normalize=True)"
   ]
  },
  {
   "cell_type": "code",
   "execution_count": 52,
   "metadata": {},
   "outputs": [
    {
     "data": {
      "text/plain": [
       "<AxesSubplot:xlabel='po_race'>"
      ]
     },
     "execution_count": 52,
     "metadata": {},
     "output_type": "execute_result"
    },
    {
     "data": {
      "image/png": "[encoded data removed]",
      "text/plain": [
       "<Figure size 432x288 with 1 Axes>"
      ]
     },
     "metadata": {
      "needs_background": "light"
     },
     "output_type": "display_data"
    }
   ],
   "source": [
    "phillyfemale_df.groupby('po_race').size().plot(kind='bar')"
   ]
  },
  {
   "cell_type": "code",
   "execution_count": 53,
   "metadata": {},
   "outputs": [
    {
     "data": {
      "text/plain": [
       "Departmental Violation                           0.341137\n",
       "Lack of Service                                  0.204013\n",
       "Unprofessional Conduct                           0.107023\n",
       "Verbal Abuse                                     0.091973\n",
       "Investigation OnGoing                            0.054348\n",
       "Physical Abuse                                   0.048495\n",
       "Harassment                                       0.045151\n",
       "No C.A.P. Investigation                          0.034281\n",
       "Criminal Allegation                              0.022575\n",
       "Domestic                                         0.018395\n",
       "Civil Rights Complaint                           0.013378\n",
       "Referred to Other Agency/C.A.P. Investigation    0.007525\n",
       "Falsification                                    0.005017\n",
       "Other Misconduct                                 0.002508\n",
       "Disciplinary Code Violation                      0.001672\n",
       "Drugs                                            0.001672\n",
       "Sexual Crime/Misconduct                          0.000836\n",
       "Name: allegations_investigated, dtype: float64"
      ]
     },
     "execution_count": 53,
     "metadata": {},
     "output_type": "execute_result"
    }
   ],
   "source": [
    "phillyfemale_df['allegations_investigated'].value_counts(normalize=True)"
   ]
  },
  {
   "cell_type": "code",
   "execution_count": 54,
   "metadata": {},
   "outputs": [],
   "source": [
    "# Create filters for studied races (black & white).\n",
    "white_filter=police_df['po_race']=='white'\n",
    "phillywhite_df=police_df[white_filter]\n",
    "\n",
    "black_filter=police_df['po_race']=='black'\n",
    "phillyblack_df=police_df[black_filter]"
   ]
  },
  {
   "cell_type": "code",
   "execution_count": 55,
   "metadata": {},
   "outputs": [],
   "source": [
    "# Create subsets `whitemale_df`, `whitefemale_df`.\n",
    "whitemale_df=police_df[(white_filter) & (male_filter)]\n",
    "whitefemale_df=police_df[(white_filter) & (female_filter)]"
   ]
  },
  {
   "cell_type": "code",
   "execution_count": 56,
   "metadata": {},
   "outputs": [],
   "source": [
    "# * Create subsets `blackmale_df`, `blackfemale_df`.\n",
    "blackmale_df=police_df[(black_filter) & (male_filter)]\n",
    "blackfemale_df=police_df[(black_filter) & (female_filter)]"
   ]
  },
  {
   "cell_type": "code",
   "execution_count": 57,
   "metadata": {},
   "outputs": [
    {
     "data": {
      "text/plain": [
       "<AxesSubplot:xlabel='allegations_investigated'>"
      ]
     },
     "execution_count": 57,
     "metadata": {},
     "output_type": "execute_result"
    },
    {
     "data": {
      "image/png": "[encoded data removed]",
      "text/plain": [
       "<Figure size 432x288 with 1 Axes>"
      ]
     },
     "metadata": {
      "needs_background": "light"
     },
     "output_type": "display_data"
    }
   ],
   "source": [
    "# Graph results!\n",
    "whitemale_df.groupby('allegations_investigated').size().plot(kind='bar')"
   ]
  },
  {
   "cell_type": "code",
   "execution_count": 58,
   "metadata": {},
   "outputs": [
    {
     "data": {
      "text/plain": [
       "<AxesSubplot:xlabel='allegations_investigated'>"
      ]
     },
     "execution_count": 58,
     "metadata": {},
     "output_type": "execute_result"
    },
    {
     "data": {
      "image/png": "[encoded data removed]",
      "text/plain": [
       "<Figure size 432x288 with 1 Axes>"
      ]
     },
     "metadata": {
      "needs_background": "light"
     },
     "output_type": "display_data"
    }
   ],
   "source": [
    "# Graph results!\n",
    "whitefemale_df.groupby('allegations_investigated').size().plot(kind='bar')"
   ]
  },
  {
   "cell_type": "code",
   "execution_count": 59,
   "metadata": {},
   "outputs": [
    {
     "data": {
      "text/plain": [
       "<AxesSubplot:xlabel='allegations_investigated'>"
      ]
     },
     "execution_count": 59,
     "metadata": {},
     "output_type": "execute_result"
    },
    {
     "data": {
      "image/png": "[encoded data removed]",
      "text/plain": [
       "<Figure size 432x288 with 1 Axes>"
      ]
     },
     "metadata": {
      "needs_background": "light"
     },
     "output_type": "display_data"
    }
   ],
   "source": [
    "# Graph results!\n",
    "blackmale_df.groupby('allegations_investigated').size().plot(kind='bar')"
   ]
  },
  {
   "cell_type": "code",
   "execution_count": 60,
   "metadata": {},
   "outputs": [
    {
     "data": {
      "text/plain": [
       "<AxesSubplot:xlabel='allegations_investigated'>"
      ]
     },
     "execution_count": 60,
     "metadata": {},
     "output_type": "execute_result"
    },
    {
     "data": {
      "image/png": "[encoded data removed]",
      "text/plain": [
       "<Figure size 432x288 with 1 Axes>"
      ]
     },
     "metadata": {
      "needs_background": "light"
     },
     "output_type": "display_data"
    }
   ],
   "source": [
    "# Graph results!\n",
    "blackfemale_df.groupby('allegations_investigated').size().plot(kind='bar')"
   ]
  },
  {
   "cell_type": "markdown",
   "metadata": {},
   "source": [
    "In narrative form, YES. There are vast differences in race and sex and the complaint distribution, which I will break down below: \n",
    "\n",
    "Some observations:\n",
    "* There are more than twice as many white male police officers than that of black police officers.\n",
    "* There are 1.5 times more black female police officers than white female police officers. \n",
    "* Majority of police officers are male. \n",
    "* Across ALL race & sex subgroups, Departmental Violation was the most common complaint.\n",
    "* Proportionally speaking, more white male police officers had complaints for physical abuse compared to their white female police officer counterparts (same with black PO's).\n",
    "* Proportionally speaking, more white female police officers had complaints for unprofessional conduct than their white male police officer counterparts (same with black PO's).\n",
    "* Proportionally speaking, more black female police officers had complaints for physical abuse compared to their white female police officer counterparts.\n",
    "* Tie assigned unit with District #? "
   ]
  }
 ],
 "metadata": {
  "kernelspec": {
   "display_name": "Python 3",
   "language": "python",
   "name": "python3"
  },
  "language_info": {
   "codemirror_mode": {
    "name": "ipython",
    "version": 3
   },
   "file_extension": ".py",
   "mimetype": "text/x-python",
   "name": "python",
   "nbconvert_exporter": "python",
   "pygments_lexer": "ipython3",
   "version": "3.7.3"
  }
 },
 "nbformat": 4,
 "nbformat_minor": 2
}
